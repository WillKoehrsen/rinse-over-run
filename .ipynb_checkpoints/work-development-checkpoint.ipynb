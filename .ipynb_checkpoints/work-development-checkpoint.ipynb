{
 "cells": [
  {
   "cell_type": "markdown",
   "metadata": {},
   "source": [
    "# Introduction: Starting Work for Rinse Over Run Competition\n",
    "\n",
    "The purpose of this notebook is to make a start in the rinse over run competition. We'll load in the data, do some exploration, figure out how to make predictions, and make a preliminary prediction for submission."
   ]
  },
  {
   "cell_type": "code",
   "execution_count": 1,
   "metadata": {
    "ExecuteTime": {
     "end_time": "2019-02-16T01:01:45.170847Z",
     "start_time": "2019-02-16T01:01:25.204699Z"
    }
   },
   "outputs": [
    {
     "data": {
      "text/html": [
       "<script type=\"text/javascript\">window.PlotlyConfig = {MathJaxConfig: 'local'};</script><script type=\"text/javascript\">if (window.MathJax) {MathJax.Hub.Config({SVG: {font: \"STIX-Web\"}});}</script><script>requirejs.config({paths: { 'plotly': ['https://cdn.plot.ly/plotly-latest.min']},});if(!window._Plotly) {require(['plotly'],function(plotly) {window._Plotly=plotly;});}</script>"
      ],
      "text/vnd.plotly.v1+html": [
       "<script type=\"text/javascript\">window.PlotlyConfig = {MathJaxConfig: 'local'};</script><script type=\"text/javascript\">if (window.MathJax) {MathJax.Hub.Config({SVG: {font: \"STIX-Web\"}});}</script><script>requirejs.config({paths: { 'plotly': ['https://cdn.plot.ly/plotly-latest.min']},});if(!window._Plotly) {require(['plotly'],function(plotly) {window._Plotly=plotly;});}</script>"
      ]
     },
     "metadata": {},
     "output_type": "display_data"
    },
    {
     "data": {
      "text/html": [
       "<script type=\"text/javascript\">window.PlotlyConfig = {MathJaxConfig: 'local'};</script><script type=\"text/javascript\">if (window.MathJax) {MathJax.Hub.Config({SVG: {font: \"STIX-Web\"}});}</script><script>requirejs.config({paths: { 'plotly': ['https://cdn.plot.ly/plotly-latest.min']},});if(!window._Plotly) {require(['plotly'],function(plotly) {window._Plotly=plotly;});}</script>"
      ],
      "text/vnd.plotly.v1+html": [
       "<script type=\"text/javascript\">window.PlotlyConfig = {MathJaxConfig: 'local'};</script><script type=\"text/javascript\">if (window.MathJax) {MathJax.Hub.Config({SVG: {font: \"STIX-Web\"}});}</script><script>requirejs.config({paths: { 'plotly': ['https://cdn.plot.ly/plotly-latest.min']},});if(!window._Plotly) {require(['plotly'],function(plotly) {window._Plotly=plotly;});}</script>"
      ]
     },
     "metadata": {},
     "output_type": "display_data"
    }
   ],
   "source": [
    "# Standard Data Science Helpers\n",
    "import numpy as np\n",
    "import pandas as pd\n",
    "import scipy\n",
    "\n",
    "import plotly.plotly as py\n",
    "import plotly.graph_objs as go\n",
    "from plotly.offline import iplot, init_notebook_mode\n",
    "init_notebook_mode(connected=True)\n",
    "\n",
    "import cufflinks as cf\n",
    "cf.set_config_file(world_readable=True, theme=\"pearl\")\n",
    "cf.go_offline(connected=True)\n",
    "\n",
    "# Extra options\n",
    "pd.options.display.max_rows = 10\n",
    "pd.options.display.max_columns = 25\n",
    "# Show all code cells outputs\n",
    "from IPython.core.interactiveshell import InteractiveShell\n",
    "InteractiveShell.ast_node_interactivity = 'all'\n"
   ]
  },
  {
   "cell_type": "code",
   "execution_count": 2,
   "metadata": {
    "ExecuteTime": {
     "end_time": "2019-02-16T01:01:45.212737Z",
     "start_time": "2019-02-16T01:01:45.190796Z"
    }
   },
   "outputs": [
    {
     "data": {
      "text/plain": [
       "['recipe_metadata.csv',\n",
       " 'submission_format.csv',\n",
       " 'test_values.csv',\n",
       " 'train_labels.csv',\n",
       " 'train_values.csv']"
      ]
     },
     "execution_count": 2,
     "metadata": {},
     "output_type": "execute_result"
    }
   ],
   "source": [
    "import os\n",
    "os.listdir('input')"
   ]
  },
  {
   "cell_type": "code",
   "execution_count": 83,
   "metadata": {
    "ExecuteTime": {
     "end_time": "2019-02-16T01:37:53.486258Z",
     "start_time": "2019-02-16T01:37:53.447346Z"
    }
   },
   "outputs": [
    {
     "data": {
      "text/html": [
       "<div>\n",
       "<style scoped>\n",
       "    .dataframe tbody tr th:only-of-type {\n",
       "        vertical-align: middle;\n",
       "    }\n",
       "\n",
       "    .dataframe tbody tr th {\n",
       "        vertical-align: top;\n",
       "    }\n",
       "\n",
       "    .dataframe thead th {\n",
       "        text-align: right;\n",
       "    }\n",
       "</style>\n",
       "<table border=\"1\" class=\"dataframe\">\n",
       "  <thead>\n",
       "    <tr style=\"text-align: right;\">\n",
       "      <th></th>\n",
       "      <th>pre_rinse</th>\n",
       "      <th>caustic</th>\n",
       "      <th>intermediate_rinse</th>\n",
       "      <th>acid</th>\n",
       "      <th>final_rinse</th>\n",
       "    </tr>\n",
       "    <tr>\n",
       "      <th>process_id</th>\n",
       "      <th></th>\n",
       "      <th></th>\n",
       "      <th></th>\n",
       "      <th></th>\n",
       "      <th></th>\n",
       "    </tr>\n",
       "  </thead>\n",
       "  <tbody>\n",
       "    <tr>\n",
       "      <th>20000</th>\n",
       "      <td>1</td>\n",
       "      <td>1</td>\n",
       "      <td>1</td>\n",
       "      <td>1</td>\n",
       "      <td>1</td>\n",
       "    </tr>\n",
       "    <tr>\n",
       "      <th>20001</th>\n",
       "      <td>1</td>\n",
       "      <td>1</td>\n",
       "      <td>1</td>\n",
       "      <td>1</td>\n",
       "      <td>1</td>\n",
       "    </tr>\n",
       "    <tr>\n",
       "      <th>20002</th>\n",
       "      <td>1</td>\n",
       "      <td>1</td>\n",
       "      <td>0</td>\n",
       "      <td>0</td>\n",
       "      <td>1</td>\n",
       "    </tr>\n",
       "    <tr>\n",
       "      <th>20003</th>\n",
       "      <td>1</td>\n",
       "      <td>1</td>\n",
       "      <td>1</td>\n",
       "      <td>1</td>\n",
       "      <td>1</td>\n",
       "    </tr>\n",
       "    <tr>\n",
       "      <th>20004</th>\n",
       "      <td>1</td>\n",
       "      <td>1</td>\n",
       "      <td>1</td>\n",
       "      <td>1</td>\n",
       "      <td>1</td>\n",
       "    </tr>\n",
       "  </tbody>\n",
       "</table>\n",
       "</div>"
      ],
      "text/plain": [
       "            pre_rinse  caustic  intermediate_rinse  acid  final_rinse\n",
       "process_id                                                           \n",
       "20000               1        1                   1     1            1\n",
       "20001               1        1                   1     1            1\n",
       "20002               1        1                   0     0            1\n",
       "20003               1        1                   1     1            1\n",
       "20004               1        1                   1     1            1"
      ]
     },
     "execution_count": 83,
     "metadata": {},
     "output_type": "execute_result"
    }
   ],
   "source": [
    "meta = pd.read_csv('input/recipe_metadata.csv', index_col='process_id')\n",
    "meta.head()"
   ]
  },
  {
   "cell_type": "code",
   "execution_count": 85,
   "metadata": {
    "ExecuteTime": {
     "end_time": "2019-02-16T01:38:04.188617Z",
     "start_time": "2019-02-16T01:38:04.164694Z"
    }
   },
   "outputs": [
    {
     "data": {
      "text/html": [
       "<div>\n",
       "<style scoped>\n",
       "    .dataframe tbody tr th:only-of-type {\n",
       "        vertical-align: middle;\n",
       "    }\n",
       "\n",
       "    .dataframe tbody tr th {\n",
       "        vertical-align: top;\n",
       "    }\n",
       "\n",
       "    .dataframe thead th {\n",
       "        text-align: right;\n",
       "    }\n",
       "</style>\n",
       "<table border=\"1\" class=\"dataframe\">\n",
       "  <thead>\n",
       "    <tr style=\"text-align: right;\">\n",
       "      <th></th>\n",
       "      <th>final_rinse_total_turbidity_liter</th>\n",
       "    </tr>\n",
       "    <tr>\n",
       "      <th>process_id</th>\n",
       "      <th></th>\n",
       "    </tr>\n",
       "  </thead>\n",
       "  <tbody>\n",
       "    <tr>\n",
       "      <th>20001</th>\n",
       "      <td>4.318275e+06</td>\n",
       "    </tr>\n",
       "    <tr>\n",
       "      <th>20002</th>\n",
       "      <td>4.375286e+05</td>\n",
       "    </tr>\n",
       "    <tr>\n",
       "      <th>20003</th>\n",
       "      <td>4.271977e+05</td>\n",
       "    </tr>\n",
       "    <tr>\n",
       "      <th>20004</th>\n",
       "      <td>7.197830e+05</td>\n",
       "    </tr>\n",
       "    <tr>\n",
       "      <th>20005</th>\n",
       "      <td>4.133107e+05</td>\n",
       "    </tr>\n",
       "  </tbody>\n",
       "</table>\n",
       "</div>"
      ],
      "text/plain": [
       "            final_rinse_total_turbidity_liter\n",
       "process_id                                   \n",
       "20001                            4.318275e+06\n",
       "20002                            4.375286e+05\n",
       "20003                            4.271977e+05\n",
       "20004                            7.197830e+05\n",
       "20005                            4.133107e+05"
      ]
     },
     "execution_count": 85,
     "metadata": {},
     "output_type": "execute_result"
    }
   ],
   "source": [
    "targets = pd.read_csv('input/train_labels.csv', index_col='process_id')\n",
    "targets.head()"
   ]
  },
  {
   "cell_type": "code",
   "execution_count": 87,
   "metadata": {
    "ExecuteTime": {
     "end_time": "2019-02-16T01:38:21.941604Z",
     "start_time": "2019-02-16T01:38:21.931629Z"
    }
   },
   "outputs": [
    {
     "data": {
      "text/plain": [
       "5021"
      ]
     },
     "execution_count": 87,
     "metadata": {},
     "output_type": "execute_result"
    },
    {
     "data": {
      "text/plain": [
       "7988"
      ]
     },
     "execution_count": 87,
     "metadata": {},
     "output_type": "execute_result"
    }
   ],
   "source": [
    "targets.index.nunique()\n",
    "meta.index.nunique()"
   ]
  },
  {
   "cell_type": "code",
   "execution_count": 88,
   "metadata": {
    "ExecuteTime": {
     "end_time": "2019-02-16T01:38:40.252090Z",
     "start_time": "2019-02-16T01:38:25.897063Z"
    }
   },
   "outputs": [
    {
     "data": {
      "text/plain": [
       "5021"
      ]
     },
     "execution_count": 88,
     "metadata": {},
     "output_type": "execute_result"
    }
   ],
   "source": [
    "train_ids = list(pd.read_csv('input/train_values.csv', usecols=['process_id'])['process_id'].unique())\n",
    "len(train_ids)"
   ]
  },
  {
   "cell_type": "code",
   "execution_count": 89,
   "metadata": {
    "ExecuteTime": {
     "end_time": "2019-02-16T01:38:45.571138Z",
     "start_time": "2019-02-16T01:38:40.506779Z"
    }
   },
   "outputs": [
    {
     "data": {
      "text/plain": [
       "2967"
      ]
     },
     "execution_count": 89,
     "metadata": {},
     "output_type": "execute_result"
    }
   ],
   "source": [
    "test_ids = list(pd.read_csv('input/test_values.csv', usecols=['process_id'])['process_id'].unique())\n",
    "len(test_ids)"
   ]
  },
  {
   "cell_type": "code",
   "execution_count": 91,
   "metadata": {
    "ExecuteTime": {
     "end_time": "2019-02-16T01:38:46.131640Z",
     "start_time": "2019-02-16T01:38:46.122666Z"
    }
   },
   "outputs": [
    {
     "data": {
      "text/plain": [
       "7988"
      ]
     },
     "execution_count": 91,
     "metadata": {},
     "output_type": "execute_result"
    }
   ],
   "source": [
    "2967 + 5021"
   ]
  },
  {
   "cell_type": "code",
   "execution_count": 92,
   "metadata": {
    "ExecuteTime": {
     "end_time": "2019-02-16T01:38:46.507635Z",
     "start_time": "2019-02-16T01:38:46.497662Z"
    }
   },
   "outputs": [],
   "source": [
    "train_meta = meta.loc[meta.index.isin(train_ids)].copy()\n",
    "test_meta = meta.loc[meta.index.isin(test_ids)].copy()"
   ]
  },
  {
   "cell_type": "code",
   "execution_count": 95,
   "metadata": {
    "ExecuteTime": {
     "end_time": "2019-02-16T01:38:57.422572Z",
     "start_time": "2019-02-16T01:38:57.385670Z"
    }
   },
   "outputs": [
    {
     "data": {
      "text/html": [
       "<div>\n",
       "<style scoped>\n",
       "    .dataframe tbody tr th:only-of-type {\n",
       "        vertical-align: middle;\n",
       "    }\n",
       "\n",
       "    .dataframe tbody tr th {\n",
       "        vertical-align: top;\n",
       "    }\n",
       "\n",
       "    .dataframe thead th {\n",
       "        text-align: right;\n",
       "    }\n",
       "</style>\n",
       "<table border=\"1\" class=\"dataframe\">\n",
       "  <thead>\n",
       "    <tr style=\"text-align: right;\">\n",
       "      <th></th>\n",
       "      <th>pre_rinse</th>\n",
       "      <th>caustic</th>\n",
       "      <th>intermediate_rinse</th>\n",
       "      <th>acid</th>\n",
       "      <th>final_rinse</th>\n",
       "    </tr>\n",
       "  </thead>\n",
       "  <tbody>\n",
       "    <tr>\n",
       "      <th>0</th>\n",
       "      <td>NaN</td>\n",
       "      <td>122</td>\n",
       "      <td>709</td>\n",
       "      <td>587</td>\n",
       "      <td>NaN</td>\n",
       "    </tr>\n",
       "    <tr>\n",
       "      <th>1</th>\n",
       "      <td>2967.0</td>\n",
       "      <td>2845</td>\n",
       "      <td>2258</td>\n",
       "      <td>2380</td>\n",
       "      <td>2967.0</td>\n",
       "    </tr>\n",
       "  </tbody>\n",
       "</table>\n",
       "</div>"
      ],
      "text/plain": [
       "   pre_rinse  caustic  intermediate_rinse  acid  final_rinse\n",
       "0        NaN      122                 709   587          NaN\n",
       "1     2967.0     2845                2258  2380       2967.0"
      ]
     },
     "execution_count": 95,
     "metadata": {},
     "output_type": "execute_result"
    }
   ],
   "source": [
    "test_meta.apply(lambda x: x.value_counts())"
   ]
  },
  {
   "cell_type": "code",
   "execution_count": 96,
   "metadata": {
    "ExecuteTime": {
     "end_time": "2019-02-16T01:39:02.924793Z",
     "start_time": "2019-02-16T01:39:02.896868Z"
    }
   },
   "outputs": [
    {
     "data": {
      "text/html": [
       "<div>\n",
       "<style scoped>\n",
       "    .dataframe tbody tr th:only-of-type {\n",
       "        vertical-align: middle;\n",
       "    }\n",
       "\n",
       "    .dataframe tbody tr th {\n",
       "        vertical-align: top;\n",
       "    }\n",
       "\n",
       "    .dataframe thead th {\n",
       "        text-align: right;\n",
       "    }\n",
       "</style>\n",
       "<table border=\"1\" class=\"dataframe\">\n",
       "  <thead>\n",
       "    <tr style=\"text-align: right;\">\n",
       "      <th></th>\n",
       "      <th>pre_rinse</th>\n",
       "      <th>caustic</th>\n",
       "      <th>intermediate_rinse</th>\n",
       "      <th>acid</th>\n",
       "      <th>final_rinse</th>\n",
       "    </tr>\n",
       "  </thead>\n",
       "  <tbody>\n",
       "    <tr>\n",
       "      <th>0</th>\n",
       "      <td>NaN</td>\n",
       "      <td>193</td>\n",
       "      <td>1250</td>\n",
       "      <td>1057</td>\n",
       "      <td>NaN</td>\n",
       "    </tr>\n",
       "    <tr>\n",
       "      <th>1</th>\n",
       "      <td>5021.0</td>\n",
       "      <td>4828</td>\n",
       "      <td>3771</td>\n",
       "      <td>3964</td>\n",
       "      <td>5021.0</td>\n",
       "    </tr>\n",
       "  </tbody>\n",
       "</table>\n",
       "</div>"
      ],
      "text/plain": [
       "   pre_rinse  caustic  intermediate_rinse  acid  final_rinse\n",
       "0        NaN      193                1250  1057          NaN\n",
       "1     5021.0     4828                3771  3964       5021.0"
      ]
     },
     "execution_count": 96,
     "metadata": {},
     "output_type": "execute_result"
    }
   ],
   "source": [
    "train_meta.apply(lambda x: x.value_counts())"
   ]
  },
  {
   "cell_type": "code",
   "execution_count": 97,
   "metadata": {
    "ExecuteTime": {
     "end_time": "2019-02-16T01:39:09.636986Z",
     "start_time": "2019-02-16T01:39:09.382667Z"
    }
   },
   "outputs": [
    {
     "data": {
      "text/html": [
       "<div>\n",
       "<style scoped>\n",
       "    .dataframe tbody tr th:only-of-type {\n",
       "        vertical-align: middle;\n",
       "    }\n",
       "\n",
       "    .dataframe tbody tr th {\n",
       "        vertical-align: top;\n",
       "    }\n",
       "\n",
       "    .dataframe thead th {\n",
       "        text-align: right;\n",
       "    }\n",
       "</style>\n",
       "<table border=\"1\" class=\"dataframe\">\n",
       "  <thead>\n",
       "    <tr style=\"text-align: right;\">\n",
       "      <th></th>\n",
       "      <th>row_id</th>\n",
       "      <th>object_id</th>\n",
       "      <th>phase</th>\n",
       "      <th>timestamp</th>\n",
       "      <th>pipeline</th>\n",
       "      <th>supply_flow</th>\n",
       "      <th>supply_pressure</th>\n",
       "      <th>return_temperature</th>\n",
       "      <th>return_conductivity</th>\n",
       "      <th>return_turbidity</th>\n",
       "      <th>return_flow</th>\n",
       "      <th>supply_pump</th>\n",
       "      <th>...</th>\n",
       "      <th>tank_level_acid</th>\n",
       "      <th>tank_level_clean_water</th>\n",
       "      <th>tank_temperature_pre_rinse</th>\n",
       "      <th>tank_temperature_caustic</th>\n",
       "      <th>tank_temperature_acid</th>\n",
       "      <th>tank_concentration_caustic</th>\n",
       "      <th>tank_concentration_acid</th>\n",
       "      <th>tank_lsh_caustic</th>\n",
       "      <th>tank_lsh_acid</th>\n",
       "      <th>tank_lsh_clean_water</th>\n",
       "      <th>tank_lsh_pre_rinse</th>\n",
       "      <th>target_time_period</th>\n",
       "    </tr>\n",
       "    <tr>\n",
       "      <th>process_id</th>\n",
       "      <th></th>\n",
       "      <th></th>\n",
       "      <th></th>\n",
       "      <th></th>\n",
       "      <th></th>\n",
       "      <th></th>\n",
       "      <th></th>\n",
       "      <th></th>\n",
       "      <th></th>\n",
       "      <th></th>\n",
       "      <th></th>\n",
       "      <th></th>\n",
       "      <th></th>\n",
       "      <th></th>\n",
       "      <th></th>\n",
       "      <th></th>\n",
       "      <th></th>\n",
       "      <th></th>\n",
       "      <th></th>\n",
       "      <th></th>\n",
       "      <th></th>\n",
       "      <th></th>\n",
       "      <th></th>\n",
       "      <th></th>\n",
       "      <th></th>\n",
       "    </tr>\n",
       "  </thead>\n",
       "  <tbody>\n",
       "    <tr>\n",
       "      <th>20001</th>\n",
       "      <td>0</td>\n",
       "      <td>405</td>\n",
       "      <td>pre_rinse</td>\n",
       "      <td>2018-04-15 04:20:47</td>\n",
       "      <td>L4</td>\n",
       "      <td>8550.348</td>\n",
       "      <td>0.615451</td>\n",
       "      <td>18.044704</td>\n",
       "      <td>4.990765</td>\n",
       "      <td>0.177228</td>\n",
       "      <td>15776.9100</td>\n",
       "      <td>True</td>\n",
       "      <td>...</td>\n",
       "      <td>44.026875</td>\n",
       "      <td>49.474102</td>\n",
       "      <td>32.385708</td>\n",
       "      <td>83.036750</td>\n",
       "      <td>73.03241</td>\n",
       "      <td>45.394646</td>\n",
       "      <td>44.340126</td>\n",
       "      <td>False</td>\n",
       "      <td>0.0</td>\n",
       "      <td>False</td>\n",
       "      <td>0.0</td>\n",
       "      <td>False</td>\n",
       "    </tr>\n",
       "    <tr>\n",
       "      <th>20001</th>\n",
       "      <td>1</td>\n",
       "      <td>405</td>\n",
       "      <td>pre_rinse</td>\n",
       "      <td>2018-04-15 04:20:49</td>\n",
       "      <td>L4</td>\n",
       "      <td>11364.294</td>\n",
       "      <td>0.654297</td>\n",
       "      <td>18.229168</td>\n",
       "      <td>3.749680</td>\n",
       "      <td>0.122975</td>\n",
       "      <td>13241.4640</td>\n",
       "      <td>True</td>\n",
       "      <td>...</td>\n",
       "      <td>44.045685</td>\n",
       "      <td>49.457645</td>\n",
       "      <td>32.385708</td>\n",
       "      <td>83.015045</td>\n",
       "      <td>73.03241</td>\n",
       "      <td>45.394447</td>\n",
       "      <td>44.339380</td>\n",
       "      <td>False</td>\n",
       "      <td>0.0</td>\n",
       "      <td>False</td>\n",
       "      <td>0.0</td>\n",
       "      <td>False</td>\n",
       "    </tr>\n",
       "    <tr>\n",
       "      <th>20001</th>\n",
       "      <td>2</td>\n",
       "      <td>405</td>\n",
       "      <td>pre_rinse</td>\n",
       "      <td>2018-04-15 04:20:51</td>\n",
       "      <td>L4</td>\n",
       "      <td>12174.479</td>\n",
       "      <td>0.699870</td>\n",
       "      <td>18.395544</td>\n",
       "      <td>2.783954</td>\n",
       "      <td>0.387008</td>\n",
       "      <td>10698.7850</td>\n",
       "      <td>True</td>\n",
       "      <td>...</td>\n",
       "      <td>44.045685</td>\n",
       "      <td>49.462350</td>\n",
       "      <td>32.385708</td>\n",
       "      <td>83.015045</td>\n",
       "      <td>73.03241</td>\n",
       "      <td>45.396280</td>\n",
       "      <td>44.336735</td>\n",
       "      <td>False</td>\n",
       "      <td>0.0</td>\n",
       "      <td>False</td>\n",
       "      <td>0.0</td>\n",
       "      <td>False</td>\n",
       "    </tr>\n",
       "    <tr>\n",
       "      <th>20001</th>\n",
       "      <td>3</td>\n",
       "      <td>405</td>\n",
       "      <td>pre_rinse</td>\n",
       "      <td>2018-04-15 04:20:53</td>\n",
       "      <td>L4</td>\n",
       "      <td>13436.776</td>\n",
       "      <td>0.761502</td>\n",
       "      <td>18.583622</td>\n",
       "      <td>1.769353</td>\n",
       "      <td>0.213397</td>\n",
       "      <td>8007.8125</td>\n",
       "      <td>True</td>\n",
       "      <td>...</td>\n",
       "      <td>44.048030</td>\n",
       "      <td>49.462350</td>\n",
       "      <td>32.385708</td>\n",
       "      <td>83.036750</td>\n",
       "      <td>73.03241</td>\n",
       "      <td>45.401875</td>\n",
       "      <td>44.333110</td>\n",
       "      <td>False</td>\n",
       "      <td>0.0</td>\n",
       "      <td>False</td>\n",
       "      <td>0.0</td>\n",
       "      <td>False</td>\n",
       "    </tr>\n",
       "    <tr>\n",
       "      <th>20001</th>\n",
       "      <td>4</td>\n",
       "      <td>405</td>\n",
       "      <td>pre_rinse</td>\n",
       "      <td>2018-04-15 04:20:55</td>\n",
       "      <td>L4</td>\n",
       "      <td>13776.766</td>\n",
       "      <td>0.837240</td>\n",
       "      <td>18.627026</td>\n",
       "      <td>0.904020</td>\n",
       "      <td>0.148293</td>\n",
       "      <td>6004.0510</td>\n",
       "      <td>True</td>\n",
       "      <td>...</td>\n",
       "      <td>44.048030</td>\n",
       "      <td>49.462350</td>\n",
       "      <td>32.385708</td>\n",
       "      <td>83.015045</td>\n",
       "      <td>73.03241</td>\n",
       "      <td>45.398197</td>\n",
       "      <td>44.334373</td>\n",
       "      <td>False</td>\n",
       "      <td>0.0</td>\n",
       "      <td>False</td>\n",
       "      <td>0.0</td>\n",
       "      <td>False</td>\n",
       "    </tr>\n",
       "  </tbody>\n",
       "</table>\n",
       "<p>5 rows × 35 columns</p>\n",
       "</div>"
      ],
      "text/plain": [
       "            row_id  object_id      phase           timestamp pipeline  \\\n",
       "process_id                                                              \n",
       "20001            0        405  pre_rinse 2018-04-15 04:20:47       L4   \n",
       "20001            1        405  pre_rinse 2018-04-15 04:20:49       L4   \n",
       "20001            2        405  pre_rinse 2018-04-15 04:20:51       L4   \n",
       "20001            3        405  pre_rinse 2018-04-15 04:20:53       L4   \n",
       "20001            4        405  pre_rinse 2018-04-15 04:20:55       L4   \n",
       "\n",
       "            supply_flow  supply_pressure  return_temperature  \\\n",
       "process_id                                                     \n",
       "20001          8550.348         0.615451           18.044704   \n",
       "20001         11364.294         0.654297           18.229168   \n",
       "20001         12174.479         0.699870           18.395544   \n",
       "20001         13436.776         0.761502           18.583622   \n",
       "20001         13776.766         0.837240           18.627026   \n",
       "\n",
       "            return_conductivity  return_turbidity  return_flow  supply_pump  \\\n",
       "process_id                                                                    \n",
       "20001                  4.990765          0.177228   15776.9100         True   \n",
       "20001                  3.749680          0.122975   13241.4640         True   \n",
       "20001                  2.783954          0.387008   10698.7850         True   \n",
       "20001                  1.769353          0.213397    8007.8125         True   \n",
       "20001                  0.904020          0.148293    6004.0510         True   \n",
       "\n",
       "                   ...          tank_level_acid  tank_level_clean_water  \\\n",
       "process_id         ...                                                    \n",
       "20001              ...                44.026875               49.474102   \n",
       "20001              ...                44.045685               49.457645   \n",
       "20001              ...                44.045685               49.462350   \n",
       "20001              ...                44.048030               49.462350   \n",
       "20001              ...                44.048030               49.462350   \n",
       "\n",
       "            tank_temperature_pre_rinse  tank_temperature_caustic  \\\n",
       "process_id                                                         \n",
       "20001                        32.385708                 83.036750   \n",
       "20001                        32.385708                 83.015045   \n",
       "20001                        32.385708                 83.015045   \n",
       "20001                        32.385708                 83.036750   \n",
       "20001                        32.385708                 83.015045   \n",
       "\n",
       "            tank_temperature_acid  tank_concentration_caustic  \\\n",
       "process_id                                                      \n",
       "20001                    73.03241                   45.394646   \n",
       "20001                    73.03241                   45.394447   \n",
       "20001                    73.03241                   45.396280   \n",
       "20001                    73.03241                   45.401875   \n",
       "20001                    73.03241                   45.398197   \n",
       "\n",
       "            tank_concentration_acid  tank_lsh_caustic  tank_lsh_acid  \\\n",
       "process_id                                                             \n",
       "20001                     44.340126             False            0.0   \n",
       "20001                     44.339380             False            0.0   \n",
       "20001                     44.336735             False            0.0   \n",
       "20001                     44.333110             False            0.0   \n",
       "20001                     44.334373             False            0.0   \n",
       "\n",
       "            tank_lsh_clean_water  tank_lsh_pre_rinse  target_time_period  \n",
       "process_id                                                                \n",
       "20001                      False                 0.0               False  \n",
       "20001                      False                 0.0               False  \n",
       "20001                      False                 0.0               False  \n",
       "20001                      False                 0.0               False  \n",
       "20001                      False                 0.0               False  \n",
       "\n",
       "[5 rows x 35 columns]"
      ]
     },
     "execution_count": 97,
     "metadata": {},
     "output_type": "execute_result"
    }
   ],
   "source": [
    "train = pd.read_csv('input/train_values.csv', nrows=10000, parse_dates=['timestamp'], \n",
    "                    index_col='process_id')\n",
    "train.head()"
   ]
  },
  {
   "cell_type": "code",
   "execution_count": 98,
   "metadata": {
    "ExecuteTime": {
     "end_time": "2019-02-16T01:39:13.007642Z",
     "start_time": "2019-02-16T01:39:12.999662Z"
    }
   },
   "outputs": [
    {
     "data": {
      "text/plain": [
       "7"
      ]
     },
     "execution_count": 98,
     "metadata": {},
     "output_type": "execute_result"
    }
   ],
   "source": [
    "train.index.nunique()"
   ]
  },
  {
   "cell_type": "code",
   "execution_count": 99,
   "metadata": {
    "ExecuteTime": {
     "end_time": "2019-02-16T01:39:14.060563Z",
     "start_time": "2019-02-16T01:39:14.053583Z"
    }
   },
   "outputs": [
    {
     "data": {
      "text/plain": [
       "(1632, 35)"
      ]
     },
     "execution_count": 99,
     "metadata": {},
     "output_type": "execute_result"
    }
   ],
   "source": [
    "sid = 20001\n",
    "process = train[train.index == sid]\n",
    "process.shape"
   ]
  },
  {
   "cell_type": "code",
   "execution_count": 100,
   "metadata": {
    "ExecuteTime": {
     "end_time": "2019-02-16T01:39:14.972288Z",
     "start_time": "2019-02-16T01:39:14.959320Z"
    }
   },
   "outputs": [
    {
     "data": {
      "text/plain": [
       "row_id                           int64\n",
       "object_id                        int64\n",
       "phase                           object\n",
       "timestamp               datetime64[ns]\n",
       "pipeline                        object\n",
       "                             ...      \n",
       "tank_lsh_caustic                  bool\n",
       "tank_lsh_acid                  float64\n",
       "tank_lsh_clean_water              bool\n",
       "tank_lsh_pre_rinse             float64\n",
       "target_time_period                bool\n",
       "Length: 35, dtype: object"
      ]
     },
     "execution_count": 100,
     "metadata": {},
     "output_type": "execute_result"
    }
   ],
   "source": [
    "process.dtypes"
   ]
  },
  {
   "cell_type": "code",
   "execution_count": 101,
   "metadata": {
    "ExecuteTime": {
     "end_time": "2019-02-16T01:39:15.758110Z",
     "start_time": "2019-02-16T01:39:15.754114Z"
    }
   },
   "outputs": [],
   "source": [
    "process = process.set_index('timestamp')"
   ]
  },
  {
   "cell_type": "code",
   "execution_count": 102,
   "metadata": {
    "ExecuteTime": {
     "end_time": "2019-02-16T01:39:17.484223Z",
     "start_time": "2019-02-16T01:39:17.401928Z"
    }
   },
   "outputs": [
    {
     "data": {
      "text/html": [
       "<div>\n",
       "<style scoped>\n",
       "    .dataframe tbody tr th:only-of-type {\n",
       "        vertical-align: middle;\n",
       "    }\n",
       "\n",
       "    .dataframe tbody tr th {\n",
       "        vertical-align: top;\n",
       "    }\n",
       "\n",
       "    .dataframe thead th {\n",
       "        text-align: right;\n",
       "    }\n",
       "</style>\n",
       "<table border=\"1\" class=\"dataframe\">\n",
       "  <thead>\n",
       "    <tr style=\"text-align: right;\">\n",
       "      <th></th>\n",
       "      <th>row_id</th>\n",
       "      <th>object_id</th>\n",
       "      <th>phase</th>\n",
       "      <th>pipeline</th>\n",
       "      <th>supply_flow</th>\n",
       "      <th>supply_pressure</th>\n",
       "      <th>return_temperature</th>\n",
       "      <th>return_conductivity</th>\n",
       "      <th>return_turbidity</th>\n",
       "      <th>return_flow</th>\n",
       "      <th>supply_pump</th>\n",
       "      <th>supply_pre_rinse</th>\n",
       "      <th>...</th>\n",
       "      <th>tank_level_acid</th>\n",
       "      <th>tank_level_clean_water</th>\n",
       "      <th>tank_temperature_pre_rinse</th>\n",
       "      <th>tank_temperature_caustic</th>\n",
       "      <th>tank_temperature_acid</th>\n",
       "      <th>tank_concentration_caustic</th>\n",
       "      <th>tank_concentration_acid</th>\n",
       "      <th>tank_lsh_caustic</th>\n",
       "      <th>tank_lsh_acid</th>\n",
       "      <th>tank_lsh_clean_water</th>\n",
       "      <th>tank_lsh_pre_rinse</th>\n",
       "      <th>target_time_period</th>\n",
       "    </tr>\n",
       "    <tr>\n",
       "      <th>timestamp</th>\n",
       "      <th></th>\n",
       "      <th></th>\n",
       "      <th></th>\n",
       "      <th></th>\n",
       "      <th></th>\n",
       "      <th></th>\n",
       "      <th></th>\n",
       "      <th></th>\n",
       "      <th></th>\n",
       "      <th></th>\n",
       "      <th></th>\n",
       "      <th></th>\n",
       "      <th></th>\n",
       "      <th></th>\n",
       "      <th></th>\n",
       "      <th></th>\n",
       "      <th></th>\n",
       "      <th></th>\n",
       "      <th></th>\n",
       "      <th></th>\n",
       "      <th></th>\n",
       "      <th></th>\n",
       "      <th></th>\n",
       "      <th></th>\n",
       "      <th></th>\n",
       "    </tr>\n",
       "  </thead>\n",
       "  <tbody>\n",
       "    <tr>\n",
       "      <th>2018-04-15 04:20:47</th>\n",
       "      <td>0</td>\n",
       "      <td>405</td>\n",
       "      <td>pre_rinse</td>\n",
       "      <td>L4</td>\n",
       "      <td>8550.348</td>\n",
       "      <td>0.615451</td>\n",
       "      <td>18.044704</td>\n",
       "      <td>4.990765</td>\n",
       "      <td>0.177228</td>\n",
       "      <td>15776.9100</td>\n",
       "      <td>True</td>\n",
       "      <td>True</td>\n",
       "      <td>...</td>\n",
       "      <td>44.026875</td>\n",
       "      <td>49.474102</td>\n",
       "      <td>32.385708</td>\n",
       "      <td>83.036750</td>\n",
       "      <td>73.03241</td>\n",
       "      <td>45.394646</td>\n",
       "      <td>44.340126</td>\n",
       "      <td>False</td>\n",
       "      <td>0.0</td>\n",
       "      <td>False</td>\n",
       "      <td>0.0</td>\n",
       "      <td>False</td>\n",
       "    </tr>\n",
       "    <tr>\n",
       "      <th>2018-04-15 04:20:49</th>\n",
       "      <td>1</td>\n",
       "      <td>405</td>\n",
       "      <td>pre_rinse</td>\n",
       "      <td>L4</td>\n",
       "      <td>11364.294</td>\n",
       "      <td>0.654297</td>\n",
       "      <td>18.229168</td>\n",
       "      <td>3.749680</td>\n",
       "      <td>0.122975</td>\n",
       "      <td>13241.4640</td>\n",
       "      <td>True</td>\n",
       "      <td>True</td>\n",
       "      <td>...</td>\n",
       "      <td>44.045685</td>\n",
       "      <td>49.457645</td>\n",
       "      <td>32.385708</td>\n",
       "      <td>83.015045</td>\n",
       "      <td>73.03241</td>\n",
       "      <td>45.394447</td>\n",
       "      <td>44.339380</td>\n",
       "      <td>False</td>\n",
       "      <td>0.0</td>\n",
       "      <td>False</td>\n",
       "      <td>0.0</td>\n",
       "      <td>False</td>\n",
       "    </tr>\n",
       "    <tr>\n",
       "      <th>2018-04-15 04:20:51</th>\n",
       "      <td>2</td>\n",
       "      <td>405</td>\n",
       "      <td>pre_rinse</td>\n",
       "      <td>L4</td>\n",
       "      <td>12174.479</td>\n",
       "      <td>0.699870</td>\n",
       "      <td>18.395544</td>\n",
       "      <td>2.783954</td>\n",
       "      <td>0.387008</td>\n",
       "      <td>10698.7850</td>\n",
       "      <td>True</td>\n",
       "      <td>True</td>\n",
       "      <td>...</td>\n",
       "      <td>44.045685</td>\n",
       "      <td>49.462350</td>\n",
       "      <td>32.385708</td>\n",
       "      <td>83.015045</td>\n",
       "      <td>73.03241</td>\n",
       "      <td>45.396280</td>\n",
       "      <td>44.336735</td>\n",
       "      <td>False</td>\n",
       "      <td>0.0</td>\n",
       "      <td>False</td>\n",
       "      <td>0.0</td>\n",
       "      <td>False</td>\n",
       "    </tr>\n",
       "    <tr>\n",
       "      <th>2018-04-15 04:20:53</th>\n",
       "      <td>3</td>\n",
       "      <td>405</td>\n",
       "      <td>pre_rinse</td>\n",
       "      <td>L4</td>\n",
       "      <td>13436.776</td>\n",
       "      <td>0.761502</td>\n",
       "      <td>18.583622</td>\n",
       "      <td>1.769353</td>\n",
       "      <td>0.213397</td>\n",
       "      <td>8007.8125</td>\n",
       "      <td>True</td>\n",
       "      <td>True</td>\n",
       "      <td>...</td>\n",
       "      <td>44.048030</td>\n",
       "      <td>49.462350</td>\n",
       "      <td>32.385708</td>\n",
       "      <td>83.036750</td>\n",
       "      <td>73.03241</td>\n",
       "      <td>45.401875</td>\n",
       "      <td>44.333110</td>\n",
       "      <td>False</td>\n",
       "      <td>0.0</td>\n",
       "      <td>False</td>\n",
       "      <td>0.0</td>\n",
       "      <td>False</td>\n",
       "    </tr>\n",
       "    <tr>\n",
       "      <th>2018-04-15 04:20:55</th>\n",
       "      <td>4</td>\n",
       "      <td>405</td>\n",
       "      <td>pre_rinse</td>\n",
       "      <td>L4</td>\n",
       "      <td>13776.766</td>\n",
       "      <td>0.837240</td>\n",
       "      <td>18.627026</td>\n",
       "      <td>0.904020</td>\n",
       "      <td>0.148293</td>\n",
       "      <td>6004.0510</td>\n",
       "      <td>True</td>\n",
       "      <td>True</td>\n",
       "      <td>...</td>\n",
       "      <td>44.048030</td>\n",
       "      <td>49.462350</td>\n",
       "      <td>32.385708</td>\n",
       "      <td>83.015045</td>\n",
       "      <td>73.03241</td>\n",
       "      <td>45.398197</td>\n",
       "      <td>44.334373</td>\n",
       "      <td>False</td>\n",
       "      <td>0.0</td>\n",
       "      <td>False</td>\n",
       "      <td>0.0</td>\n",
       "      <td>False</td>\n",
       "    </tr>\n",
       "  </tbody>\n",
       "</table>\n",
       "<p>5 rows × 34 columns</p>\n",
       "</div>"
      ],
      "text/plain": [
       "                     row_id  object_id      phase pipeline  supply_flow  \\\n",
       "timestamp                                                                 \n",
       "2018-04-15 04:20:47       0        405  pre_rinse       L4     8550.348   \n",
       "2018-04-15 04:20:49       1        405  pre_rinse       L4    11364.294   \n",
       "2018-04-15 04:20:51       2        405  pre_rinse       L4    12174.479   \n",
       "2018-04-15 04:20:53       3        405  pre_rinse       L4    13436.776   \n",
       "2018-04-15 04:20:55       4        405  pre_rinse       L4    13776.766   \n",
       "\n",
       "                     supply_pressure  return_temperature  return_conductivity  \\\n",
       "timestamp                                                                       \n",
       "2018-04-15 04:20:47         0.615451           18.044704             4.990765   \n",
       "2018-04-15 04:20:49         0.654297           18.229168             3.749680   \n",
       "2018-04-15 04:20:51         0.699870           18.395544             2.783954   \n",
       "2018-04-15 04:20:53         0.761502           18.583622             1.769353   \n",
       "2018-04-15 04:20:55         0.837240           18.627026             0.904020   \n",
       "\n",
       "                     return_turbidity  return_flow  supply_pump  \\\n",
       "timestamp                                                         \n",
       "2018-04-15 04:20:47          0.177228   15776.9100         True   \n",
       "2018-04-15 04:20:49          0.122975   13241.4640         True   \n",
       "2018-04-15 04:20:51          0.387008   10698.7850         True   \n",
       "2018-04-15 04:20:53          0.213397    8007.8125         True   \n",
       "2018-04-15 04:20:55          0.148293    6004.0510         True   \n",
       "\n",
       "                     supply_pre_rinse         ...          tank_level_acid  \\\n",
       "timestamp                                     ...                            \n",
       "2018-04-15 04:20:47              True         ...                44.026875   \n",
       "2018-04-15 04:20:49              True         ...                44.045685   \n",
       "2018-04-15 04:20:51              True         ...                44.045685   \n",
       "2018-04-15 04:20:53              True         ...                44.048030   \n",
       "2018-04-15 04:20:55              True         ...                44.048030   \n",
       "\n",
       "                     tank_level_clean_water  tank_temperature_pre_rinse  \\\n",
       "timestamp                                                                 \n",
       "2018-04-15 04:20:47               49.474102                   32.385708   \n",
       "2018-04-15 04:20:49               49.457645                   32.385708   \n",
       "2018-04-15 04:20:51               49.462350                   32.385708   \n",
       "2018-04-15 04:20:53               49.462350                   32.385708   \n",
       "2018-04-15 04:20:55               49.462350                   32.385708   \n",
       "\n",
       "                     tank_temperature_caustic  tank_temperature_acid  \\\n",
       "timestamp                                                              \n",
       "2018-04-15 04:20:47                 83.036750               73.03241   \n",
       "2018-04-15 04:20:49                 83.015045               73.03241   \n",
       "2018-04-15 04:20:51                 83.015045               73.03241   \n",
       "2018-04-15 04:20:53                 83.036750               73.03241   \n",
       "2018-04-15 04:20:55                 83.015045               73.03241   \n",
       "\n",
       "                     tank_concentration_caustic  tank_concentration_acid  \\\n",
       "timestamp                                                                  \n",
       "2018-04-15 04:20:47                   45.394646                44.340126   \n",
       "2018-04-15 04:20:49                   45.394447                44.339380   \n",
       "2018-04-15 04:20:51                   45.396280                44.336735   \n",
       "2018-04-15 04:20:53                   45.401875                44.333110   \n",
       "2018-04-15 04:20:55                   45.398197                44.334373   \n",
       "\n",
       "                     tank_lsh_caustic  tank_lsh_acid  tank_lsh_clean_water  \\\n",
       "timestamp                                                                    \n",
       "2018-04-15 04:20:47             False            0.0                 False   \n",
       "2018-04-15 04:20:49             False            0.0                 False   \n",
       "2018-04-15 04:20:51             False            0.0                 False   \n",
       "2018-04-15 04:20:53             False            0.0                 False   \n",
       "2018-04-15 04:20:55             False            0.0                 False   \n",
       "\n",
       "                     tank_lsh_pre_rinse  target_time_period  \n",
       "timestamp                                                    \n",
       "2018-04-15 04:20:47                 0.0               False  \n",
       "2018-04-15 04:20:49                 0.0               False  \n",
       "2018-04-15 04:20:51                 0.0               False  \n",
       "2018-04-15 04:20:53                 0.0               False  \n",
       "2018-04-15 04:20:55                 0.0               False  \n",
       "\n",
       "[5 rows x 34 columns]"
      ]
     },
     "execution_count": 102,
     "metadata": {},
     "output_type": "execute_result"
    }
   ],
   "source": [
    "process.head()"
   ]
  },
  {
   "cell_type": "code",
   "execution_count": 105,
   "metadata": {
    "ExecuteTime": {
     "end_time": "2019-02-16T01:39:28.226975Z",
     "start_time": "2019-02-16T01:39:28.218996Z"
    }
   },
   "outputs": [
    {
     "data": {
      "text/html": [
       "<div>\n",
       "<style scoped>\n",
       "    .dataframe tbody tr th:only-of-type {\n",
       "        vertical-align: middle;\n",
       "    }\n",
       "\n",
       "    .dataframe tbody tr th {\n",
       "        vertical-align: top;\n",
       "    }\n",
       "\n",
       "    .dataframe thead th {\n",
       "        text-align: right;\n",
       "    }\n",
       "</style>\n",
       "<table border=\"1\" class=\"dataframe\">\n",
       "  <thead>\n",
       "    <tr style=\"text-align: right;\">\n",
       "      <th></th>\n",
       "      <th>final_rinse_total_turbidity_liter</th>\n",
       "    </tr>\n",
       "    <tr>\n",
       "      <th>process_id</th>\n",
       "      <th></th>\n",
       "    </tr>\n",
       "  </thead>\n",
       "  <tbody>\n",
       "    <tr>\n",
       "      <th>20001</th>\n",
       "      <td>4.318275e+06</td>\n",
       "    </tr>\n",
       "  </tbody>\n",
       "</table>\n",
       "</div>"
      ],
      "text/plain": [
       "            final_rinse_total_turbidity_liter\n",
       "process_id                                   \n",
       "20001                            4.318275e+06"
      ]
     },
     "execution_count": 105,
     "metadata": {},
     "output_type": "execute_result"
    }
   ],
   "source": [
    "targets[targets.index == sid]"
   ]
  },
  {
   "cell_type": "code",
   "execution_count": 106,
   "metadata": {
    "ExecuteTime": {
     "end_time": "2019-02-16T01:39:35.238064Z",
     "start_time": "2019-02-16T01:39:35.217121Z"
    }
   },
   "outputs": [
    {
     "data": {
      "text/html": [
       "<div>\n",
       "<style scoped>\n",
       "    .dataframe tbody tr th:only-of-type {\n",
       "        vertical-align: middle;\n",
       "    }\n",
       "\n",
       "    .dataframe tbody tr th {\n",
       "        vertical-align: top;\n",
       "    }\n",
       "\n",
       "    .dataframe thead th {\n",
       "        text-align: right;\n",
       "    }\n",
       "</style>\n",
       "<table border=\"1\" class=\"dataframe\">\n",
       "  <thead>\n",
       "    <tr style=\"text-align: right;\">\n",
       "      <th></th>\n",
       "      <th>pre_rinse</th>\n",
       "      <th>caustic</th>\n",
       "      <th>intermediate_rinse</th>\n",
       "      <th>acid</th>\n",
       "      <th>final_rinse</th>\n",
       "    </tr>\n",
       "    <tr>\n",
       "      <th>process_id</th>\n",
       "      <th></th>\n",
       "      <th></th>\n",
       "      <th></th>\n",
       "      <th></th>\n",
       "      <th></th>\n",
       "    </tr>\n",
       "  </thead>\n",
       "  <tbody>\n",
       "    <tr>\n",
       "      <th>20001</th>\n",
       "      <td>1</td>\n",
       "      <td>1</td>\n",
       "      <td>1</td>\n",
       "      <td>1</td>\n",
       "      <td>1</td>\n",
       "    </tr>\n",
       "  </tbody>\n",
       "</table>\n",
       "</div>"
      ],
      "text/plain": [
       "            pre_rinse  caustic  intermediate_rinse  acid  final_rinse\n",
       "process_id                                                           \n",
       "20001               1        1                   1     1            1"
      ]
     },
     "execution_count": 106,
     "metadata": {},
     "output_type": "execute_result"
    }
   ],
   "source": [
    "train_meta[train_meta.index == sid]"
   ]
  },
  {
   "cell_type": "code",
   "execution_count": 107,
   "metadata": {
    "ExecuteTime": {
     "end_time": "2019-02-16T01:39:39.859797Z",
     "start_time": "2019-02-16T01:39:39.853796Z"
    }
   },
   "outputs": [
    {
     "data": {
      "text/plain": [
       "20022"
      ]
     },
     "execution_count": 107,
     "metadata": {},
     "output_type": "execute_result"
    }
   ],
   "source": [
    "test_ids[10]"
   ]
  },
  {
   "cell_type": "code",
   "execution_count": null,
   "metadata": {},
   "outputs": [],
   "source": [
    "train_meta['sequence'] = train_meta.apply(lambda x: x.values, axis=1)\n",
    "test_meta['sequence'] = test_meta.apply(lambda x: x.values, axis=1)"
   ]
  },
  {
   "cell_type": "code",
   "execution_count": 131,
   "metadata": {
    "ExecuteTime": {
     "end_time": "2019-02-16T01:46:07.189822Z",
     "start_time": "2019-02-16T01:46:07.173866Z"
    }
   },
   "outputs": [],
   "source": [
    "targets = targets.merge(train_meta['sequence'].to_frame(), on='process_id', how='left')"
   ]
  },
  {
   "cell_type": "code",
   "execution_count": 134,
   "metadata": {
    "ExecuteTime": {
     "end_time": "2019-02-16T01:46:43.425536Z",
     "start_time": "2019-02-16T01:46:42.995716Z"
    }
   },
   "outputs": [],
   "source": [
    "targets['sequence'] = targets['sequence'].astype(str)"
   ]
  },
  {
   "cell_type": "code",
   "execution_count": 136,
   "metadata": {
    "ExecuteTime": {
     "end_time": "2019-02-16T01:47:08.145341Z",
     "start_time": "2019-02-16T01:47:08.139357Z"
    }
   },
   "outputs": [],
   "source": [
    "train_means = targets.groupby('sequence')['final_rinse_total_turbidity_liter'].mean()"
   ]
  },
  {
   "cell_type": "code",
   "execution_count": 137,
   "metadata": {
    "ExecuteTime": {
     "end_time": "2019-02-16T01:47:25.686669Z",
     "start_time": "2019-02-16T01:47:25.389465Z"
    }
   },
   "outputs": [],
   "source": [
    "test_meta['sequence'] = test_meta['sequence'].astype(str)"
   ]
  },
  {
   "cell_type": "code",
   "execution_count": 141,
   "metadata": {
    "ExecuteTime": {
     "end_time": "2019-02-16T01:48:47.584304Z",
     "start_time": "2019-02-16T01:48:47.564357Z"
    }
   },
   "outputs": [
    {
     "data": {
      "text/plain": [
       "process_id\n",
       "20000    2.109410e+06\n",
       "20006    2.417376e+06\n",
       "20007    2.109410e+06\n",
       "20009    2.109410e+06\n",
       "20010    2.109410e+06\n",
       "Name: final_rinse_total_turbidity_liter, dtype: float64"
      ]
     },
     "execution_count": 141,
     "metadata": {},
     "output_type": "execute_result"
    }
   ],
   "source": [
    "basic = test_meta.merge(train_means.to_frame(), on='sequence', how='left').set_index(test_meta.index)['final_rinse_total_turbidity_liter']\n",
    "basic.head()"
   ]
  },
  {
   "cell_type": "code",
   "execution_count": 144,
   "metadata": {
    "ExecuteTime": {
     "end_time": "2019-02-16T01:49:27.013439Z",
     "start_time": "2019-02-16T01:49:26.994492Z"
    }
   },
   "outputs": [],
   "source": [
    "basic.to_frame().to_csv('basic_submission.csv')"
   ]
  },
  {
   "cell_type": "code",
   "execution_count": 145,
   "metadata": {
    "ExecuteTime": {
     "end_time": "2019-02-16T01:51:17.079562Z",
     "start_time": "2019-02-16T01:51:17.074580Z"
    }
   },
   "outputs": [],
   "source": [
    "from sklearn.neighbors import KNeighborsRegressor"
   ]
  },
  {
   "cell_type": "code",
   "execution_count": 147,
   "metadata": {
    "ExecuteTime": {
     "end_time": "2019-02-16T01:51:54.565502Z",
     "start_time": "2019-02-16T01:51:54.559519Z"
    }
   },
   "outputs": [
    {
     "data": {
      "text/plain": [
       "row_id                    int64\n",
       "object_id                 int64\n",
       "phase                    object\n",
       "pipeline                 object\n",
       "supply_flow             float64\n",
       "                         ...   \n",
       "tank_lsh_caustic           bool\n",
       "tank_lsh_acid           float64\n",
       "tank_lsh_clean_water       bool\n",
       "tank_lsh_pre_rinse      float64\n",
       "target_time_period         bool\n",
       "Length: 34, dtype: object"
      ]
     },
     "execution_count": 147,
     "metadata": {},
     "output_type": "execute_result"
    }
   ],
   "source": [
    "process.dtypes"
   ]
  },
  {
   "cell_type": "code",
   "execution_count": 154,
   "metadata": {
    "ExecuteTime": {
     "end_time": "2019-02-17T01:31:26.879514Z",
     "start_time": "2019-02-17T01:31:26.850590Z"
    }
   },
   "outputs": [
    {
     "data": {
      "text/plain": [
       "20006"
      ]
     },
     "execution_count": 154,
     "metadata": {},
     "output_type": "execute_result"
    }
   ],
   "source": [
    "test_ids[1]\n",
    "test = pd.read_csv('input/test_values.csv', nrows=1000, index_col='process_id', parse_dates=['timestamp'])"
   ]
  },
  {
   "cell_type": "code",
   "execution_count": 155,
   "metadata": {
    "ExecuteTime": {
     "end_time": "2019-02-17T01:31:27.721263Z",
     "start_time": "2019-02-17T01:31:27.712289Z"
    }
   },
   "outputs": [
    {
     "data": {
      "text/plain": [
       "Int64Index([20000, 20006, 20007], dtype='int64', name='process_id')"
      ]
     },
     "execution_count": 155,
     "metadata": {},
     "output_type": "execute_result"
    }
   ],
   "source": [
    "test.index.unique()"
   ]
  },
  {
   "cell_type": "code",
   "execution_count": 157,
   "metadata": {
    "ExecuteTime": {
     "end_time": "2019-02-17T01:31:44.571932Z",
     "start_time": "2019-02-17T01:31:44.563935Z"
    }
   },
   "outputs": [
    {
     "data": {
      "text/plain": [
       "(251, 35)"
      ]
     },
     "execution_count": 157,
     "metadata": {},
     "output_type": "execute_result"
    }
   ],
   "source": [
    "tp = test[test.index == 20006]\n",
    "tp.shape"
   ]
  },
  {
   "cell_type": "code",
   "execution_count": 161,
   "metadata": {
    "ExecuteTime": {
     "end_time": "2019-02-17T01:33:09.057384Z",
     "start_time": "2019-02-17T01:33:09.046413Z"
    }
   },
   "outputs": [
    {
     "data": {
      "text/html": [
       "<div>\n",
       "<style scoped>\n",
       "    .dataframe tbody tr th:only-of-type {\n",
       "        vertical-align: middle;\n",
       "    }\n",
       "\n",
       "    .dataframe tbody tr th {\n",
       "        vertical-align: top;\n",
       "    }\n",
       "\n",
       "    .dataframe thead th {\n",
       "        text-align: right;\n",
       "    }\n",
       "</style>\n",
       "<table border=\"1\" class=\"dataframe\">\n",
       "  <thead>\n",
       "    <tr style=\"text-align: right;\">\n",
       "      <th></th>\n",
       "      <th>pre_rinse</th>\n",
       "      <th>caustic</th>\n",
       "      <th>intermediate_rinse</th>\n",
       "      <th>acid</th>\n",
       "      <th>final_rinse</th>\n",
       "      <th>sequence</th>\n",
       "    </tr>\n",
       "    <tr>\n",
       "      <th>process_id</th>\n",
       "      <th></th>\n",
       "      <th></th>\n",
       "      <th></th>\n",
       "      <th></th>\n",
       "      <th></th>\n",
       "      <th></th>\n",
       "    </tr>\n",
       "  </thead>\n",
       "  <tbody>\n",
       "    <tr>\n",
       "      <th>20006</th>\n",
       "      <td>1</td>\n",
       "      <td>1</td>\n",
       "      <td>0</td>\n",
       "      <td>0</td>\n",
       "      <td>1</td>\n",
       "      <td>[1 1 0 0 1]</td>\n",
       "    </tr>\n",
       "  </tbody>\n",
       "</table>\n",
       "</div>"
      ],
      "text/plain": [
       "            pre_rinse  caustic  intermediate_rinse  acid  final_rinse  \\\n",
       "process_id                                                              \n",
       "20006               1        1                   0     0            1   \n",
       "\n",
       "               sequence  \n",
       "process_id               \n",
       "20006       [1 1 0 0 1]  "
      ]
     },
     "execution_count": 161,
     "metadata": {},
     "output_type": "execute_result"
    }
   ],
   "source": [
    "test_meta[test_meta.index == 20006]"
   ]
  },
  {
   "cell_type": "code",
   "execution_count": 160,
   "metadata": {
    "ExecuteTime": {
     "end_time": "2019-02-17T01:32:46.941113Z",
     "start_time": "2019-02-17T01:32:46.911194Z"
    }
   },
   "outputs": [
    {
     "data": {
      "text/plain": [
       "process_id  phase    \n",
       "20000       caustic      439\n",
       "            pre_rinse     88\n",
       "20006       caustic      193\n",
       "            pre_rinse     58\n",
       "20007       caustic      164\n",
       "            pre_rinse     58\n",
       "Name: phase, dtype: int64"
      ]
     },
     "execution_count": 160,
     "metadata": {},
     "output_type": "execute_result"
    }
   ],
   "source": [
    "test.groupby('process_id')['phase'].value_counts()"
   ]
  },
  {
   "cell_type": "code",
   "execution_count": null,
   "metadata": {},
   "outputs": [],
   "source": [
    "def process(test_data):\n",
    "    count = len(test_data)\n",
    "    phase_counts = test_data['phase'].value_counts()\n",
    "    stats = test"
   ]
  },
  {
   "cell_type": "code",
   "execution_count": 162,
   "metadata": {
    "ExecuteTime": {
     "end_time": "2019-02-17T01:35:58.142928Z",
     "start_time": "2019-02-17T01:35:58.136943Z"
    }
   },
   "outputs": [],
   "source": [
    "test_data = tp.copy()"
   ]
  },
  {
   "cell_type": "code",
   "execution_count": 190,
   "metadata": {
    "ExecuteTime": {
     "end_time": "2019-02-17T01:51:48.570373Z",
     "start_time": "2019-02-17T01:51:48.558403Z"
    }
   },
   "outputs": [],
   "source": [
    "df = pd.DataFrame({'count': len(test_data)}, index=['phase'])\n",
    "phase_counts = test_data['phase'].value_counts()\n",
    "phase_counts = phase_counts.to_frame().transpose()\n",
    "df = pd.concat([df, phase_counts], axis=1)\n",
    "df.index = [0]"
   ]
  },
  {
   "cell_type": "code",
   "execution_count": 191,
   "metadata": {
    "ExecuteTime": {
     "end_time": "2019-02-17T01:51:49.795679Z",
     "start_time": "2019-02-17T01:51:49.788280Z"
    }
   },
   "outputs": [
    {
     "data": {
      "text/html": [
       "<div>\n",
       "<style scoped>\n",
       "    .dataframe tbody tr th:only-of-type {\n",
       "        vertical-align: middle;\n",
       "    }\n",
       "\n",
       "    .dataframe tbody tr th {\n",
       "        vertical-align: top;\n",
       "    }\n",
       "\n",
       "    .dataframe thead th {\n",
       "        text-align: right;\n",
       "    }\n",
       "</style>\n",
       "<table border=\"1\" class=\"dataframe\">\n",
       "  <thead>\n",
       "    <tr style=\"text-align: right;\">\n",
       "      <th></th>\n",
       "      <th>count</th>\n",
       "      <th>caustic</th>\n",
       "      <th>pre_rinse</th>\n",
       "    </tr>\n",
       "  </thead>\n",
       "  <tbody>\n",
       "    <tr>\n",
       "      <th>0</th>\n",
       "      <td>251</td>\n",
       "      <td>193</td>\n",
       "      <td>58</td>\n",
       "    </tr>\n",
       "  </tbody>\n",
       "</table>\n",
       "</div>"
      ],
      "text/plain": [
       "   count  caustic  pre_rinse\n",
       "0    251      193         58"
      ]
     },
     "execution_count": 191,
     "metadata": {},
     "output_type": "execute_result"
    }
   ],
   "source": [
    "df"
   ]
  },
  {
   "cell_type": "code",
   "execution_count": 212,
   "metadata": {
    "ExecuteTime": {
     "end_time": "2019-02-17T02:01:26.681047Z",
     "start_time": "2019-02-17T02:01:26.675061Z"
    }
   },
   "outputs": [],
   "source": [
    "def process(test_data):\n",
    "\n",
    "    summary = test_data.drop(columns=['object_id', 'row_id']).groupby('phase').describe()\n",
    "    summary.columns = summary.columns.map('_'.join)\n",
    "\n",
    "\n",
    "    out = []\n",
    "    for phase, row in summary.iterrows():\n",
    "        row.index = [f'{phase}_{c}' for c in row.index]\n",
    "        out.append(row)\n",
    "\n",
    "    data = pd.concat(out).to_frame().transpose()\n",
    "\n",
    "\n",
    "    bools = test_data.select_dtypes(bool).apply(lambda x: x.value_counts()).fillna(0)\n",
    "\n",
    "    out = []\n",
    "    for phase, row in bools.iterrows():\n",
    "        row.index = [f'{phase}_{c}' for c in row.index]\n",
    "        out.append(row)\n",
    "\n",
    "    data_tf = pd.concat(out).to_frame().transpose()\n",
    "    final_data = pd.concat([data_tf, data], axis=1)\n",
    "    \n",
    "    return final_data"
   ]
  },
  {
   "cell_type": "code",
   "execution_count": 215,
   "metadata": {
    "ExecuteTime": {
     "end_time": "2019-02-17T02:01:50.885510Z",
     "start_time": "2019-02-17T02:01:50.710947Z"
    }
   },
   "outputs": [
    {
     "data": {
      "text/html": [
       "<div>\n",
       "<style scoped>\n",
       "    .dataframe tbody tr th:only-of-type {\n",
       "        vertical-align: middle;\n",
       "    }\n",
       "\n",
       "    .dataframe tbody tr th {\n",
       "        vertical-align: top;\n",
       "    }\n",
       "\n",
       "    .dataframe thead th {\n",
       "        text-align: right;\n",
       "    }\n",
       "</style>\n",
       "<table border=\"1\" class=\"dataframe\">\n",
       "  <thead>\n",
       "    <tr style=\"text-align: right;\">\n",
       "      <th></th>\n",
       "      <th>False_supply_pump</th>\n",
       "      <th>False_supply_pre_rinse</th>\n",
       "      <th>False_supply_caustic</th>\n",
       "      <th>False_return_caustic</th>\n",
       "      <th>False_supply_acid</th>\n",
       "      <th>False_return_acid</th>\n",
       "      <th>False_supply_clean_water</th>\n",
       "      <th>False_return_recovery_water</th>\n",
       "      <th>False_return_drain</th>\n",
       "      <th>False_object_low_level</th>\n",
       "      <th>False_tank_lsh_caustic</th>\n",
       "      <th>False_tank_lsh_clean_water</th>\n",
       "      <th>...</th>\n",
       "      <th>pre_rinse_tank_temperature_caustic_25%</th>\n",
       "      <th>pre_rinse_tank_temperature_caustic_50%</th>\n",
       "      <th>pre_rinse_tank_temperature_caustic_75%</th>\n",
       "      <th>pre_rinse_tank_temperature_caustic_max</th>\n",
       "      <th>pre_rinse_tank_temperature_pre_rinse_count</th>\n",
       "      <th>pre_rinse_tank_temperature_pre_rinse_mean</th>\n",
       "      <th>pre_rinse_tank_temperature_pre_rinse_std</th>\n",
       "      <th>pre_rinse_tank_temperature_pre_rinse_min</th>\n",
       "      <th>pre_rinse_tank_temperature_pre_rinse_25%</th>\n",
       "      <th>pre_rinse_tank_temperature_pre_rinse_50%</th>\n",
       "      <th>pre_rinse_tank_temperature_pre_rinse_75%</th>\n",
       "      <th>pre_rinse_tank_temperature_pre_rinse_max</th>\n",
       "    </tr>\n",
       "  </thead>\n",
       "  <tbody>\n",
       "    <tr>\n",
       "      <th>0</th>\n",
       "      <td>95.0</td>\n",
       "      <td>440.0</td>\n",
       "      <td>183.0</td>\n",
       "      <td>267.0</td>\n",
       "      <td>527.0</td>\n",
       "      <td>527.0</td>\n",
       "      <td>523.0</td>\n",
       "      <td>527.0</td>\n",
       "      <td>260.0</td>\n",
       "      <td>480.0</td>\n",
       "      <td>527.0</td>\n",
       "      <td>527.0</td>\n",
       "      <td>...</td>\n",
       "      <td>83.048502</td>\n",
       "      <td>83.08196</td>\n",
       "      <td>83.13441</td>\n",
       "      <td>83.19589</td>\n",
       "      <td>88.0</td>\n",
       "      <td>29.968961</td>\n",
       "      <td>0.0296</td>\n",
       "      <td>29.922598</td>\n",
       "      <td>29.944302</td>\n",
       "      <td>29.962385</td>\n",
       "      <td>30.005785</td>\n",
       "      <td>30.027489</td>\n",
       "    </tr>\n",
       "  </tbody>\n",
       "</table>\n",
       "<p>1 rows × 298 columns</p>\n",
       "</div>"
      ],
      "text/plain": [
       "   False_supply_pump  False_supply_pre_rinse  False_supply_caustic  \\\n",
       "0               95.0                   440.0                 183.0   \n",
       "\n",
       "   False_return_caustic  False_supply_acid  False_return_acid  \\\n",
       "0                 267.0              527.0              527.0   \n",
       "\n",
       "   False_supply_clean_water  False_return_recovery_water  False_return_drain  \\\n",
       "0                     523.0                        527.0               260.0   \n",
       "\n",
       "   False_object_low_level  False_tank_lsh_caustic  False_tank_lsh_clean_water  \\\n",
       "0                   480.0                   527.0                       527.0   \n",
       "\n",
       "                     ...                     \\\n",
       "0                    ...                      \n",
       "\n",
       "   pre_rinse_tank_temperature_caustic_25%  \\\n",
       "0                               83.048502   \n",
       "\n",
       "   pre_rinse_tank_temperature_caustic_50%  \\\n",
       "0                                83.08196   \n",
       "\n",
       "   pre_rinse_tank_temperature_caustic_75%  \\\n",
       "0                                83.13441   \n",
       "\n",
       "   pre_rinse_tank_temperature_caustic_max  \\\n",
       "0                                83.19589   \n",
       "\n",
       "   pre_rinse_tank_temperature_pre_rinse_count  \\\n",
       "0                                        88.0   \n",
       "\n",
       "   pre_rinse_tank_temperature_pre_rinse_mean  \\\n",
       "0                                  29.968961   \n",
       "\n",
       "   pre_rinse_tank_temperature_pre_rinse_std  \\\n",
       "0                                    0.0296   \n",
       "\n",
       "   pre_rinse_tank_temperature_pre_rinse_min  \\\n",
       "0                                 29.922598   \n",
       "\n",
       "   pre_rinse_tank_temperature_pre_rinse_25%  \\\n",
       "0                                 29.944302   \n",
       "\n",
       "   pre_rinse_tank_temperature_pre_rinse_50%  \\\n",
       "0                                 29.962385   \n",
       "\n",
       "   pre_rinse_tank_temperature_pre_rinse_75%  \\\n",
       "0                                 30.005785   \n",
       "\n",
       "   pre_rinse_tank_temperature_pre_rinse_max  \n",
       "0                                 30.027489  \n",
       "\n",
       "[1 rows x 298 columns]"
      ]
     },
     "execution_count": 215,
     "metadata": {},
     "output_type": "execute_result"
    }
   ],
   "source": [
    "process(test[test.index == test_ids[0]])"
   ]
  },
  {
   "cell_type": "code",
   "execution_count": 214,
   "metadata": {
    "ExecuteTime": {
     "end_time": "2019-02-17T02:01:43.419583Z",
     "start_time": "2019-02-17T02:01:43.170247Z"
    }
   },
   "outputs": [
    {
     "data": {
      "text/html": [
       "<div>\n",
       "<style scoped>\n",
       "    .dataframe tbody tr th:only-of-type {\n",
       "        vertical-align: middle;\n",
       "    }\n",
       "\n",
       "    .dataframe tbody tr th {\n",
       "        vertical-align: top;\n",
       "    }\n",
       "\n",
       "    .dataframe thead th {\n",
       "        text-align: right;\n",
       "    }\n",
       "</style>\n",
       "<table border=\"1\" class=\"dataframe\">\n",
       "  <thead>\n",
       "    <tr style=\"text-align: right;\">\n",
       "      <th></th>\n",
       "      <th>False_supply_pump</th>\n",
       "      <th>False_supply_pre_rinse</th>\n",
       "      <th>False_supply_caustic</th>\n",
       "      <th>False_return_caustic</th>\n",
       "      <th>False_supply_acid</th>\n",
       "      <th>False_return_acid</th>\n",
       "      <th>False_supply_clean_water</th>\n",
       "      <th>False_return_recovery_water</th>\n",
       "      <th>False_return_drain</th>\n",
       "      <th>False_object_low_level</th>\n",
       "      <th>False_tank_lsh_caustic</th>\n",
       "      <th>False_tank_lsh_clean_water</th>\n",
       "      <th>...</th>\n",
       "      <th>pre_rinse_tank_temperature_caustic_25%</th>\n",
       "      <th>pre_rinse_tank_temperature_caustic_50%</th>\n",
       "      <th>pre_rinse_tank_temperature_caustic_75%</th>\n",
       "      <th>pre_rinse_tank_temperature_caustic_max</th>\n",
       "      <th>pre_rinse_tank_temperature_pre_rinse_count</th>\n",
       "      <th>pre_rinse_tank_temperature_pre_rinse_mean</th>\n",
       "      <th>pre_rinse_tank_temperature_pre_rinse_std</th>\n",
       "      <th>pre_rinse_tank_temperature_pre_rinse_min</th>\n",
       "      <th>pre_rinse_tank_temperature_pre_rinse_25%</th>\n",
       "      <th>pre_rinse_tank_temperature_pre_rinse_50%</th>\n",
       "      <th>pre_rinse_tank_temperature_pre_rinse_75%</th>\n",
       "      <th>pre_rinse_tank_temperature_pre_rinse_max</th>\n",
       "    </tr>\n",
       "  </thead>\n",
       "  <tbody>\n",
       "    <tr>\n",
       "      <th>0</th>\n",
       "      <td>40.0</td>\n",
       "      <td>194.0</td>\n",
       "      <td>95.0</td>\n",
       "      <td>220.0</td>\n",
       "      <td>251.0</td>\n",
       "      <td>251.0</td>\n",
       "      <td>249.0</td>\n",
       "      <td>251.0</td>\n",
       "      <td>31.0</td>\n",
       "      <td>222.0</td>\n",
       "      <td>251.0</td>\n",
       "      <td>251.0</td>\n",
       "      <td>...</td>\n",
       "      <td>82.89931</td>\n",
       "      <td>82.90835</td>\n",
       "      <td>82.939095</td>\n",
       "      <td>83.033134</td>\n",
       "      <td>58.0</td>\n",
       "      <td>30.891553</td>\n",
       "      <td>0.019385</td>\n",
       "      <td>30.852142</td>\n",
       "      <td>30.873844</td>\n",
       "      <td>30.891928</td>\n",
       "      <td>30.913628</td>\n",
       "      <td>30.93533</td>\n",
       "    </tr>\n",
       "  </tbody>\n",
       "</table>\n",
       "<p>1 rows × 298 columns</p>\n",
       "</div>"
      ],
      "text/plain": [
       "   False_supply_pump  False_supply_pre_rinse  False_supply_caustic  \\\n",
       "0               40.0                   194.0                  95.0   \n",
       "\n",
       "   False_return_caustic  False_supply_acid  False_return_acid  \\\n",
       "0                 220.0              251.0              251.0   \n",
       "\n",
       "   False_supply_clean_water  False_return_recovery_water  False_return_drain  \\\n",
       "0                     249.0                        251.0                31.0   \n",
       "\n",
       "   False_object_low_level  False_tank_lsh_caustic  False_tank_lsh_clean_water  \\\n",
       "0                   222.0                   251.0                       251.0   \n",
       "\n",
       "                     ...                     \\\n",
       "0                    ...                      \n",
       "\n",
       "   pre_rinse_tank_temperature_caustic_25%  \\\n",
       "0                                82.89931   \n",
       "\n",
       "   pre_rinse_tank_temperature_caustic_50%  \\\n",
       "0                                82.90835   \n",
       "\n",
       "   pre_rinse_tank_temperature_caustic_75%  \\\n",
       "0                               82.939095   \n",
       "\n",
       "   pre_rinse_tank_temperature_caustic_max  \\\n",
       "0                               83.033134   \n",
       "\n",
       "   pre_rinse_tank_temperature_pre_rinse_count  \\\n",
       "0                                        58.0   \n",
       "\n",
       "   pre_rinse_tank_temperature_pre_rinse_mean  \\\n",
       "0                                  30.891553   \n",
       "\n",
       "   pre_rinse_tank_temperature_pre_rinse_std  \\\n",
       "0                                  0.019385   \n",
       "\n",
       "   pre_rinse_tank_temperature_pre_rinse_min  \\\n",
       "0                                 30.852142   \n",
       "\n",
       "   pre_rinse_tank_temperature_pre_rinse_25%  \\\n",
       "0                                 30.873844   \n",
       "\n",
       "   pre_rinse_tank_temperature_pre_rinse_50%  \\\n",
       "0                                 30.891928   \n",
       "\n",
       "   pre_rinse_tank_temperature_pre_rinse_75%  \\\n",
       "0                                 30.913628   \n",
       "\n",
       "   pre_rinse_tank_temperature_pre_rinse_max  \n",
       "0                                  30.93533  \n",
       "\n",
       "[1 rows x 298 columns]"
      ]
     },
     "execution_count": 214,
     "metadata": {},
     "output_type": "execute_result"
    }
   ],
   "source": [
    "process(test[test.index == test_ids[1]])"
   ]
  },
  {
   "cell_type": "code",
   "execution_count": 216,
   "metadata": {
    "ExecuteTime": {
     "end_time": "2019-02-17T02:02:08.654439Z",
     "start_time": "2019-02-17T02:02:08.315301Z"
    }
   },
   "outputs": [
    {
     "data": {
      "text/html": [
       "<div>\n",
       "<style scoped>\n",
       "    .dataframe tbody tr th:only-of-type {\n",
       "        vertical-align: middle;\n",
       "    }\n",
       "\n",
       "    .dataframe tbody tr th {\n",
       "        vertical-align: top;\n",
       "    }\n",
       "\n",
       "    .dataframe thead th {\n",
       "        text-align: right;\n",
       "    }\n",
       "</style>\n",
       "<table border=\"1\" class=\"dataframe\">\n",
       "  <thead>\n",
       "    <tr style=\"text-align: right;\">\n",
       "      <th></th>\n",
       "      <th>False_supply_pump</th>\n",
       "      <th>False_supply_pre_rinse</th>\n",
       "      <th>False_supply_caustic</th>\n",
       "      <th>False_return_caustic</th>\n",
       "      <th>False_supply_acid</th>\n",
       "      <th>False_return_acid</th>\n",
       "      <th>False_supply_clean_water</th>\n",
       "      <th>False_return_recovery_water</th>\n",
       "      <th>False_return_drain</th>\n",
       "      <th>False_object_low_level</th>\n",
       "      <th>False_tank_lsh_caustic</th>\n",
       "      <th>False_tank_lsh_clean_water</th>\n",
       "      <th>...</th>\n",
       "      <th>pre_rinse_tank_temperature_caustic_25%</th>\n",
       "      <th>pre_rinse_tank_temperature_caustic_50%</th>\n",
       "      <th>pre_rinse_tank_temperature_caustic_75%</th>\n",
       "      <th>pre_rinse_tank_temperature_caustic_max</th>\n",
       "      <th>pre_rinse_tank_temperature_pre_rinse_count</th>\n",
       "      <th>pre_rinse_tank_temperature_pre_rinse_mean</th>\n",
       "      <th>pre_rinse_tank_temperature_pre_rinse_std</th>\n",
       "      <th>pre_rinse_tank_temperature_pre_rinse_min</th>\n",
       "      <th>pre_rinse_tank_temperature_pre_rinse_25%</th>\n",
       "      <th>pre_rinse_tank_temperature_pre_rinse_50%</th>\n",
       "      <th>pre_rinse_tank_temperature_pre_rinse_75%</th>\n",
       "      <th>pre_rinse_tank_temperature_pre_rinse_max</th>\n",
       "    </tr>\n",
       "  </thead>\n",
       "  <tbody>\n",
       "    <tr>\n",
       "      <th>0</th>\n",
       "      <td>87.0</td>\n",
       "      <td>1369.0</td>\n",
       "      <td>919.0</td>\n",
       "      <td>930.0</td>\n",
       "      <td>1279.0</td>\n",
       "      <td>1289.0</td>\n",
       "      <td>1404.0</td>\n",
       "      <td>1429.0</td>\n",
       "      <td>1259.0</td>\n",
       "      <td>1492.0</td>\n",
       "      <td>1578.0</td>\n",
       "      <td>1632.0</td>\n",
       "      <td>...</td>\n",
       "      <td>82.00593</td>\n",
       "      <td>82.562935</td>\n",
       "      <td>82.83058</td>\n",
       "      <td>83.05483</td>\n",
       "      <td>265.0</td>\n",
       "      <td>32.658897</td>\n",
       "      <td>0.144868</td>\n",
       "      <td>32.34592</td>\n",
       "      <td>32.573784</td>\n",
       "      <td>32.675056</td>\n",
       "      <td>32.758247</td>\n",
       "      <td>32.924625</td>\n",
       "    </tr>\n",
       "  </tbody>\n",
       "</table>\n",
       "<p>1 rows × 706 columns</p>\n",
       "</div>"
      ],
      "text/plain": [
       "   False_supply_pump  False_supply_pre_rinse  False_supply_caustic  \\\n",
       "0               87.0                  1369.0                 919.0   \n",
       "\n",
       "   False_return_caustic  False_supply_acid  False_return_acid  \\\n",
       "0                 930.0             1279.0             1289.0   \n",
       "\n",
       "   False_supply_clean_water  False_return_recovery_water  False_return_drain  \\\n",
       "0                    1404.0                       1429.0              1259.0   \n",
       "\n",
       "   False_object_low_level  False_tank_lsh_caustic  False_tank_lsh_clean_water  \\\n",
       "0                  1492.0                  1578.0                      1632.0   \n",
       "\n",
       "                     ...                     \\\n",
       "0                    ...                      \n",
       "\n",
       "   pre_rinse_tank_temperature_caustic_25%  \\\n",
       "0                                82.00593   \n",
       "\n",
       "   pre_rinse_tank_temperature_caustic_50%  \\\n",
       "0                               82.562935   \n",
       "\n",
       "   pre_rinse_tank_temperature_caustic_75%  \\\n",
       "0                                82.83058   \n",
       "\n",
       "   pre_rinse_tank_temperature_caustic_max  \\\n",
       "0                                83.05483   \n",
       "\n",
       "   pre_rinse_tank_temperature_pre_rinse_count  \\\n",
       "0                                       265.0   \n",
       "\n",
       "   pre_rinse_tank_temperature_pre_rinse_mean  \\\n",
       "0                                  32.658897   \n",
       "\n",
       "   pre_rinse_tank_temperature_pre_rinse_std  \\\n",
       "0                                  0.144868   \n",
       "\n",
       "   pre_rinse_tank_temperature_pre_rinse_min  \\\n",
       "0                                  32.34592   \n",
       "\n",
       "   pre_rinse_tank_temperature_pre_rinse_25%  \\\n",
       "0                                 32.573784   \n",
       "\n",
       "   pre_rinse_tank_temperature_pre_rinse_50%  \\\n",
       "0                                 32.675056   \n",
       "\n",
       "   pre_rinse_tank_temperature_pre_rinse_75%  \\\n",
       "0                                 32.758247   \n",
       "\n",
       "   pre_rinse_tank_temperature_pre_rinse_max  \n",
       "0                                 32.924625  \n",
       "\n",
       "[1 rows x 706 columns]"
      ]
     },
     "execution_count": 216,
     "metadata": {},
     "output_type": "execute_result"
    }
   ],
   "source": [
    "process(train[train.index == train_ids[0]])"
   ]
  },
  {
   "cell_type": "code",
   "execution_count": 217,
   "metadata": {
    "ExecuteTime": {
     "end_time": "2019-02-17T02:02:14.869636Z",
     "start_time": "2019-02-17T02:02:14.502620Z"
    }
   },
   "outputs": [
    {
     "data": {
      "text/html": [
       "<div>\n",
       "<style scoped>\n",
       "    .dataframe tbody tr th:only-of-type {\n",
       "        vertical-align: middle;\n",
       "    }\n",
       "\n",
       "    .dataframe tbody tr th {\n",
       "        vertical-align: top;\n",
       "    }\n",
       "\n",
       "    .dataframe thead th {\n",
       "        text-align: right;\n",
       "    }\n",
       "</style>\n",
       "<table border=\"1\" class=\"dataframe\">\n",
       "  <thead>\n",
       "    <tr style=\"text-align: right;\">\n",
       "      <th></th>\n",
       "      <th>False_supply_pump</th>\n",
       "      <th>False_supply_pre_rinse</th>\n",
       "      <th>False_supply_caustic</th>\n",
       "      <th>False_return_caustic</th>\n",
       "      <th>False_supply_acid</th>\n",
       "      <th>False_return_acid</th>\n",
       "      <th>False_supply_clean_water</th>\n",
       "      <th>False_return_recovery_water</th>\n",
       "      <th>False_return_drain</th>\n",
       "      <th>False_object_low_level</th>\n",
       "      <th>False_tank_lsh_caustic</th>\n",
       "      <th>False_tank_lsh_clean_water</th>\n",
       "      <th>...</th>\n",
       "      <th>pre_rinse_tank_temperature_caustic_25%</th>\n",
       "      <th>pre_rinse_tank_temperature_caustic_50%</th>\n",
       "      <th>pre_rinse_tank_temperature_caustic_75%</th>\n",
       "      <th>pre_rinse_tank_temperature_caustic_max</th>\n",
       "      <th>pre_rinse_tank_temperature_pre_rinse_count</th>\n",
       "      <th>pre_rinse_tank_temperature_pre_rinse_mean</th>\n",
       "      <th>pre_rinse_tank_temperature_pre_rinse_std</th>\n",
       "      <th>pre_rinse_tank_temperature_pre_rinse_min</th>\n",
       "      <th>pre_rinse_tank_temperature_pre_rinse_25%</th>\n",
       "      <th>pre_rinse_tank_temperature_pre_rinse_50%</th>\n",
       "      <th>pre_rinse_tank_temperature_pre_rinse_75%</th>\n",
       "      <th>pre_rinse_tank_temperature_pre_rinse_max</th>\n",
       "    </tr>\n",
       "  </thead>\n",
       "  <tbody>\n",
       "    <tr>\n",
       "      <th>0</th>\n",
       "      <td>99.0</td>\n",
       "      <td>576.0</td>\n",
       "      <td>210.0</td>\n",
       "      <td>175.0</td>\n",
       "      <td>601.0</td>\n",
       "      <td>601.0</td>\n",
       "      <td>509.0</td>\n",
       "      <td>555.0</td>\n",
       "      <td>483.0</td>\n",
       "      <td>521.0</td>\n",
       "      <td>601.0</td>\n",
       "      <td>601.0</td>\n",
       "      <td>...</td>\n",
       "      <td>82.66421</td>\n",
       "      <td>82.67506</td>\n",
       "      <td>82.71123</td>\n",
       "      <td>82.85229</td>\n",
       "      <td>25.0</td>\n",
       "      <td>27.540509</td>\n",
       "      <td>0.008289</td>\n",
       "      <td>27.535444</td>\n",
       "      <td>27.535444</td>\n",
       "      <td>27.535444</td>\n",
       "      <td>27.553532</td>\n",
       "      <td>27.553532</td>\n",
       "    </tr>\n",
       "  </tbody>\n",
       "</table>\n",
       "<p>1 rows × 434 columns</p>\n",
       "</div>"
      ],
      "text/plain": [
       "   False_supply_pump  False_supply_pre_rinse  False_supply_caustic  \\\n",
       "0               99.0                   576.0                 210.0   \n",
       "\n",
       "   False_return_caustic  False_supply_acid  False_return_acid  \\\n",
       "0                 175.0              601.0              601.0   \n",
       "\n",
       "   False_supply_clean_water  False_return_recovery_water  False_return_drain  \\\n",
       "0                     509.0                        555.0               483.0   \n",
       "\n",
       "   False_object_low_level  False_tank_lsh_caustic  False_tank_lsh_clean_water  \\\n",
       "0                   521.0                   601.0                       601.0   \n",
       "\n",
       "                     ...                     \\\n",
       "0                    ...                      \n",
       "\n",
       "   pre_rinse_tank_temperature_caustic_25%  \\\n",
       "0                                82.66421   \n",
       "\n",
       "   pre_rinse_tank_temperature_caustic_50%  \\\n",
       "0                                82.67506   \n",
       "\n",
       "   pre_rinse_tank_temperature_caustic_75%  \\\n",
       "0                                82.71123   \n",
       "\n",
       "   pre_rinse_tank_temperature_caustic_max  \\\n",
       "0                                82.85229   \n",
       "\n",
       "   pre_rinse_tank_temperature_pre_rinse_count  \\\n",
       "0                                        25.0   \n",
       "\n",
       "   pre_rinse_tank_temperature_pre_rinse_mean  \\\n",
       "0                                  27.540509   \n",
       "\n",
       "   pre_rinse_tank_temperature_pre_rinse_std  \\\n",
       "0                                  0.008289   \n",
       "\n",
       "   pre_rinse_tank_temperature_pre_rinse_min  \\\n",
       "0                                 27.535444   \n",
       "\n",
       "   pre_rinse_tank_temperature_pre_rinse_25%  \\\n",
       "0                                 27.535444   \n",
       "\n",
       "   pre_rinse_tank_temperature_pre_rinse_50%  \\\n",
       "0                                 27.535444   \n",
       "\n",
       "   pre_rinse_tank_temperature_pre_rinse_75%  \\\n",
       "0                                 27.553532   \n",
       "\n",
       "   pre_rinse_tank_temperature_pre_rinse_max  \n",
       "0                                 27.553532  \n",
       "\n",
       "[1 rows x 434 columns]"
      ]
     },
     "execution_count": 217,
     "metadata": {},
     "output_type": "execute_result"
    }
   ],
   "source": [
    "process(train[train.index == train_ids[1]])"
   ]
  },
  {
   "cell_type": "code",
   "execution_count": 218,
   "metadata": {
    "ExecuteTime": {
     "end_time": "2019-02-17T02:02:28.177046Z",
     "start_time": "2019-02-17T02:02:28.159093Z"
    }
   },
   "outputs": [
    {
     "data": {
      "text/html": [
       "<div>\n",
       "<style scoped>\n",
       "    .dataframe tbody tr th:only-of-type {\n",
       "        vertical-align: middle;\n",
       "    }\n",
       "\n",
       "    .dataframe tbody tr th {\n",
       "        vertical-align: top;\n",
       "    }\n",
       "\n",
       "    .dataframe thead th {\n",
       "        text-align: right;\n",
       "    }\n",
       "</style>\n",
       "<table border=\"1\" class=\"dataframe\">\n",
       "  <thead>\n",
       "    <tr style=\"text-align: right;\">\n",
       "      <th></th>\n",
       "      <th>pre_rinse</th>\n",
       "      <th>caustic</th>\n",
       "      <th>intermediate_rinse</th>\n",
       "      <th>acid</th>\n",
       "      <th>final_rinse</th>\n",
       "      <th>sequence</th>\n",
       "    </tr>\n",
       "    <tr>\n",
       "      <th>process_id</th>\n",
       "      <th></th>\n",
       "      <th></th>\n",
       "      <th></th>\n",
       "      <th></th>\n",
       "      <th></th>\n",
       "      <th></th>\n",
       "    </tr>\n",
       "  </thead>\n",
       "  <tbody>\n",
       "    <tr>\n",
       "      <th>20000</th>\n",
       "      <td>1</td>\n",
       "      <td>1</td>\n",
       "      <td>1</td>\n",
       "      <td>1</td>\n",
       "      <td>1</td>\n",
       "      <td>[1 1 1 1 1]</td>\n",
       "    </tr>\n",
       "  </tbody>\n",
       "</table>\n",
       "</div>"
      ],
      "text/plain": [
       "            pre_rinse  caustic  intermediate_rinse  acid  final_rinse  \\\n",
       "process_id                                                              \n",
       "20000               1        1                   1     1            1   \n",
       "\n",
       "               sequence  \n",
       "process_id               \n",
       "20000       [1 1 1 1 1]  "
      ]
     },
     "execution_count": 218,
     "metadata": {},
     "output_type": "execute_result"
    }
   ],
   "source": [
    "test_meta[test_meta.index == test_ids[0]]"
   ]
  },
  {
   "cell_type": "code",
   "execution_count": 220,
   "metadata": {
    "ExecuteTime": {
     "end_time": "2019-02-17T02:03:01.932983Z",
     "start_time": "2019-02-17T02:03:01.921016Z"
    }
   },
   "outputs": [
    {
     "data": {
      "text/plain": [
       "array(['pre_rinse', 'caustic'], dtype=object)"
      ]
     },
     "execution_count": 220,
     "metadata": {},
     "output_type": "execute_result"
    }
   ],
   "source": [
    "test[test.index == test_ids[0]]['phase'].unique()"
   ]
  },
  {
   "cell_type": "code",
   "execution_count": 164,
   "metadata": {
    "ExecuteTime": {
     "end_time": "2019-02-17T01:36:54.895496Z",
     "start_time": "2019-02-17T01:36:54.626215Z"
    }
   },
   "outputs": [
    {
     "data": {
      "text/plain": [
       "caustic      193\n",
       "pre_rinse     58\n",
       "Name: phase, dtype: int64"
      ]
     },
     "execution_count": 164,
     "metadata": {},
     "output_type": "execute_result"
    },
    {
     "data": {
      "text/html": [
       "<div>\n",
       "<style scoped>\n",
       "    .dataframe tbody tr th:only-of-type {\n",
       "        vertical-align: middle;\n",
       "    }\n",
       "\n",
       "    .dataframe tbody tr th {\n",
       "        vertical-align: top;\n",
       "    }\n",
       "\n",
       "    .dataframe thead tr th {\n",
       "        text-align: left;\n",
       "    }\n",
       "\n",
       "    .dataframe thead tr:last-of-type th {\n",
       "        text-align: right;\n",
       "    }\n",
       "</style>\n",
       "<table border=\"1\" class=\"dataframe\">\n",
       "  <thead>\n",
       "    <tr>\n",
       "      <th></th>\n",
       "      <th colspan=\"8\" halign=\"left\">object_id</th>\n",
       "      <th colspan=\"4\" halign=\"left\">return_conductivity</th>\n",
       "      <th>...</th>\n",
       "      <th colspan=\"4\" halign=\"left\">tank_temperature_caustic</th>\n",
       "      <th colspan=\"8\" halign=\"left\">tank_temperature_pre_rinse</th>\n",
       "    </tr>\n",
       "    <tr>\n",
       "      <th></th>\n",
       "      <th>count</th>\n",
       "      <th>mean</th>\n",
       "      <th>std</th>\n",
       "      <th>min</th>\n",
       "      <th>25%</th>\n",
       "      <th>50%</th>\n",
       "      <th>75%</th>\n",
       "      <th>max</th>\n",
       "      <th>count</th>\n",
       "      <th>mean</th>\n",
       "      <th>std</th>\n",
       "      <th>min</th>\n",
       "      <th>...</th>\n",
       "      <th>25%</th>\n",
       "      <th>50%</th>\n",
       "      <th>75%</th>\n",
       "      <th>max</th>\n",
       "      <th>count</th>\n",
       "      <th>mean</th>\n",
       "      <th>std</th>\n",
       "      <th>min</th>\n",
       "      <th>25%</th>\n",
       "      <th>50%</th>\n",
       "      <th>75%</th>\n",
       "      <th>max</th>\n",
       "    </tr>\n",
       "    <tr>\n",
       "      <th>phase</th>\n",
       "      <th></th>\n",
       "      <th></th>\n",
       "      <th></th>\n",
       "      <th></th>\n",
       "      <th></th>\n",
       "      <th></th>\n",
       "      <th></th>\n",
       "      <th></th>\n",
       "      <th></th>\n",
       "      <th></th>\n",
       "      <th></th>\n",
       "      <th></th>\n",
       "      <th></th>\n",
       "      <th></th>\n",
       "      <th></th>\n",
       "      <th></th>\n",
       "      <th></th>\n",
       "      <th></th>\n",
       "      <th></th>\n",
       "      <th></th>\n",
       "      <th></th>\n",
       "      <th></th>\n",
       "      <th></th>\n",
       "      <th></th>\n",
       "      <th></th>\n",
       "    </tr>\n",
       "  </thead>\n",
       "  <tbody>\n",
       "    <tr>\n",
       "      <th>caustic</th>\n",
       "      <td>193.0</td>\n",
       "      <td>914.0</td>\n",
       "      <td>0.0</td>\n",
       "      <td>914.0</td>\n",
       "      <td>914.0</td>\n",
       "      <td>914.0</td>\n",
       "      <td>914.0</td>\n",
       "      <td>914.0</td>\n",
       "      <td>193.0</td>\n",
       "      <td>6.476767</td>\n",
       "      <td>11.886955</td>\n",
       "      <td>0.276554</td>\n",
       "      <td>...</td>\n",
       "      <td>81.84679</td>\n",
       "      <td>82.57017</td>\n",
       "      <td>82.754630</td>\n",
       "      <td>82.899310</td>\n",
       "      <td>193.0</td>\n",
       "      <td>30.910949</td>\n",
       "      <td>0.018998</td>\n",
       "      <td>30.870226</td>\n",
       "      <td>30.891928</td>\n",
       "      <td>30.913628</td>\n",
       "      <td>30.935330</td>\n",
       "      <td>30.93533</td>\n",
       "    </tr>\n",
       "    <tr>\n",
       "      <th>pre_rinse</th>\n",
       "      <td>58.0</td>\n",
       "      <td>914.0</td>\n",
       "      <td>0.0</td>\n",
       "      <td>914.0</td>\n",
       "      <td>914.0</td>\n",
       "      <td>914.0</td>\n",
       "      <td>914.0</td>\n",
       "      <td>914.0</td>\n",
       "      <td>58.0</td>\n",
       "      <td>0.382090</td>\n",
       "      <td>0.017723</td>\n",
       "      <td>0.300195</td>\n",
       "      <td>...</td>\n",
       "      <td>82.89931</td>\n",
       "      <td>82.90835</td>\n",
       "      <td>82.939095</td>\n",
       "      <td>83.033134</td>\n",
       "      <td>58.0</td>\n",
       "      <td>30.891553</td>\n",
       "      <td>0.019385</td>\n",
       "      <td>30.852142</td>\n",
       "      <td>30.873844</td>\n",
       "      <td>30.891928</td>\n",
       "      <td>30.913628</td>\n",
       "      <td>30.93533</td>\n",
       "    </tr>\n",
       "  </tbody>\n",
       "</table>\n",
       "<p>2 rows × 152 columns</p>\n",
       "</div>"
      ],
      "text/plain": [
       "          object_id                                                 \\\n",
       "              count   mean  std    min    25%    50%    75%    max   \n",
       "phase                                                                \n",
       "caustic       193.0  914.0  0.0  914.0  914.0  914.0  914.0  914.0   \n",
       "pre_rinse      58.0  914.0  0.0  914.0  914.0  914.0  914.0  914.0   \n",
       "\n",
       "          return_conductivity                                   ...     \\\n",
       "                        count      mean        std       min    ...      \n",
       "phase                                                           ...      \n",
       "caustic                 193.0  6.476767  11.886955  0.276554    ...      \n",
       "pre_rinse                58.0  0.382090   0.017723  0.300195    ...      \n",
       "\n",
       "          tank_temperature_caustic                                  \\\n",
       "                               25%       50%        75%        max   \n",
       "phase                                                                \n",
       "caustic                   81.84679  82.57017  82.754630  82.899310   \n",
       "pre_rinse                 82.89931  82.90835  82.939095  83.033134   \n",
       "\n",
       "          tank_temperature_pre_rinse                                  \\\n",
       "                               count       mean       std        min   \n",
       "phase                                                                  \n",
       "caustic                        193.0  30.910949  0.018998  30.870226   \n",
       "pre_rinse                       58.0  30.891553  0.019385  30.852142   \n",
       "\n",
       "                                                      \n",
       "                 25%        50%        75%       max  \n",
       "phase                                                 \n",
       "caustic    30.891928  30.913628  30.935330  30.93533  \n",
       "pre_rinse  30.873844  30.891928  30.913628  30.93533  \n",
       "\n",
       "[2 rows x 152 columns]"
      ]
     },
     "execution_count": 164,
     "metadata": {},
     "output_type": "execute_result"
    }
   ],
   "source": [
    "\n",
    "phase_counts\n",
    "\n",
    "test_data.groupby('phase').describe()"
   ]
  },
  {
   "cell_type": "code",
   "execution_count": 171,
   "metadata": {
    "ExecuteTime": {
     "end_time": "2019-02-17T01:48:23.980094Z",
     "start_time": "2019-02-17T01:48:23.973112Z"
    }
   },
   "outputs": [
    {
     "data": {
      "text/html": [
       "<div>\n",
       "<style scoped>\n",
       "    .dataframe tbody tr th:only-of-type {\n",
       "        vertical-align: middle;\n",
       "    }\n",
       "\n",
       "    .dataframe tbody tr th {\n",
       "        vertical-align: top;\n",
       "    }\n",
       "\n",
       "    .dataframe thead th {\n",
       "        text-align: right;\n",
       "    }\n",
       "</style>\n",
       "<table border=\"1\" class=\"dataframe\">\n",
       "  <thead>\n",
       "    <tr style=\"text-align: right;\">\n",
       "      <th></th>\n",
       "      <th>caustic</th>\n",
       "      <th>pre_rinse</th>\n",
       "    </tr>\n",
       "  </thead>\n",
       "  <tbody>\n",
       "    <tr>\n",
       "      <th>phase</th>\n",
       "      <td>193</td>\n",
       "      <td>58</td>\n",
       "    </tr>\n",
       "  </tbody>\n",
       "</table>\n",
       "</div>"
      ],
      "text/plain": [
       "       caustic  pre_rinse\n",
       "phase      193         58"
      ]
     },
     "execution_count": 171,
     "metadata": {},
     "output_type": "execute_result"
    }
   ],
   "source": []
  },
  {
   "cell_type": "code",
   "execution_count": 165,
   "metadata": {
    "ExecuteTime": {
     "end_time": "2019-02-17T01:46:26.784884Z",
     "start_time": "2019-02-17T01:46:26.771890Z"
    }
   },
   "outputs": [
    {
     "data": {
      "text/plain": [
       "row_id                                 int64\n",
       "object_id                              int64\n",
       "phase                                 object\n",
       "timestamp                     datetime64[ns]\n",
       "pipeline                              object\n",
       "supply_flow                          float64\n",
       "supply_pressure                      float64\n",
       "return_temperature                   float64\n",
       "return_conductivity                  float64\n",
       "return_turbidity                     float64\n",
       "return_flow                          float64\n",
       "supply_pump                             bool\n",
       "supply_pre_rinse                        bool\n",
       "supply_caustic                          bool\n",
       "return_caustic                          bool\n",
       "supply_acid                             bool\n",
       "return_acid                             bool\n",
       "supply_clean_water                      bool\n",
       "return_recovery_water                   bool\n",
       "return_drain                            bool\n",
       "object_low_level                        bool\n",
       "tank_level_pre_rinse                 float64\n",
       "tank_level_caustic                   float64\n",
       "tank_level_acid                      float64\n",
       "tank_level_clean_water               float64\n",
       "tank_temperature_pre_rinse           float64\n",
       "tank_temperature_caustic             float64\n",
       "tank_temperature_acid                float64\n",
       "tank_concentration_caustic           float64\n",
       "tank_concentration_acid              float64\n",
       "tank_lsh_caustic                        bool\n",
       "tank_lsh_acid                        float64\n",
       "tank_lsh_clean_water                    bool\n",
       "tank_lsh_pre_rinse                   float64\n",
       "target_time_period                      bool\n",
       "dtype: object"
      ]
     },
     "execution_count": 165,
     "metadata": {},
     "output_type": "execute_result"
    }
   ],
   "source": [
    "pd.options.display.max_rows = 40\n",
    "test_data.dtypes"
   ]
  },
  {
   "cell_type": "code",
   "execution_count": 168,
   "metadata": {
    "ExecuteTime": {
     "end_time": "2019-02-17T01:47:28.988852Z",
     "start_time": "2019-02-17T01:47:28.782404Z"
    }
   },
   "outputs": [
    {
     "data": {
      "text/plain": [
       "False    8998\n",
       "True     1002\n",
       "Name: target_time_period, dtype: int64"
      ]
     },
     "execution_count": 168,
     "metadata": {},
     "output_type": "execute_result"
    }
   ],
   "source": [
    "train = pd.read_csv('input/train_values.csv', nrows=10000, index_col='process_id', parse_dates=['timestamp'])\n",
    "train['target_time_period'].value_counts()"
   ]
  },
  {
   "cell_type": "code",
   "execution_count": 169,
   "metadata": {
    "ExecuteTime": {
     "end_time": "2019-02-17T01:47:40.676092Z",
     "start_time": "2019-02-17T01:47:40.665119Z"
    }
   },
   "outputs": [
    {
     "data": {
      "text/plain": [
       "False    1000\n",
       "Name: target_time_period, dtype: int64"
      ]
     },
     "execution_count": 169,
     "metadata": {},
     "output_type": "execute_result"
    }
   ],
   "source": [
    "test['target_time_period'].value_counts()"
   ]
  },
  {
   "cell_type": "code",
   "execution_count": null,
   "metadata": {},
   "outputs": [],
   "source": []
  }
 ],
 "metadata": {
  "kernelspec": {
   "display_name": "Python 3",
   "language": "python",
   "name": "python3"
  },
  "language_info": {
   "codemirror_mode": {
    "name": "ipython",
    "version": 3
   },
   "file_extension": ".py",
   "mimetype": "text/x-python",
   "name": "python",
   "nbconvert_exporter": "python",
   "pygments_lexer": "ipython3",
   "version": "3.6.5"
  },
  "toc": {
   "base_numbering": 1,
   "nav_menu": {},
   "number_sections": true,
   "sideBar": true,
   "skip_h1_title": false,
   "title_cell": "Table of Contents",
   "title_sidebar": "Contents",
   "toc_cell": false,
   "toc_position": {},
   "toc_section_display": true,
   "toc_window_display": false
  },
  "varInspector": {
   "cols": {
    "lenName": 16,
    "lenType": 16,
    "lenVar": 40
   },
   "kernels_config": {
    "python": {
     "delete_cmd_postfix": "",
     "delete_cmd_prefix": "del ",
     "library": "var_list.py",
     "varRefreshCmd": "print(var_dic_list())"
    },
    "r": {
     "delete_cmd_postfix": ") ",
     "delete_cmd_prefix": "rm(",
     "library": "var_list.r",
     "varRefreshCmd": "cat(var_dic_list()) "
    }
   },
   "types_to_exclude": [
    "module",
    "function",
    "builtin_function_or_method",
    "instance",
    "_Feature"
   ],
   "window_display": false
  }
 },
 "nbformat": 4,
 "nbformat_minor": 2
}
